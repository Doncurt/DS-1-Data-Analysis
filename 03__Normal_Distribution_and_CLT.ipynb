{
 "cells": [
  {
   "cell_type": "markdown",
   "metadata": {},
   "source": [
    "<center><img src='img/ms_logo.jpeg' height=40% width=40%></center>\n",
    "\n",
    "<center><h1>Normal Distribution & Central Limit Theorem</h1></center>\n",
    "\n",
    "If the class lecture was your first exposure to the Central Limit Theorem (CLT), it can seem a bit confusing.  The goal of this notebook is to demystify the CLT by having you write an algorithm that actually uses sampling to approximate a normal distribution from a non-normally distributed data set.  \n",
    "\n",
    "In this notebook you will:\n",
    "\n",
    "1. Run code to generate a non-normal data set.  \n",
    "1. Create an function to randomly sample subsets of data.\n",
    "1. Create a data set of the means of each sample.\n",
    "1. Visualize the distribution of the means of each sample.  \n",
    "\n",
    "\n",
    "<center><h3>Creating our Dummy Data</h3></center>\n",
    "\n",
    "We're going to use numpy to create a non-normal distribution.  The easiest way to do this is just to create a uniform distribution!  \n",
    "\n",
    "**TASKS:** Run the code below to import numpy and set a random seed, and then use numpy to create a uniform distribution with integer values between 0 and 100.\n",
    "\n",
    "(Hint: For integer values, random.uniform is not our best choice since it generates floats.  Which numpy method should you use to generate a uniform distribution of random integers?)"
   ]
  },
  {
   "cell_type": "code",
   "execution_count": 15,
   "metadata": {
    "collapsed": true
   },
   "outputs": [],
   "source": [
    "# Run this cell to import the packages you'll need and set a seed\n",
    "import numpy as np\n",
    "import pandas as pd\n",
    "from numpy import random\n",
    "import matplotlib.pyplot as plt\n",
    "%matplotlib inline\n",
    "\n",
    "# Please dont change this--otherwise, you'll get different results from everyone else!\n",
    "np.random.seed(1547)"
   ]
  },
  {
   "cell_type": "code",
   "execution_count": 9,
   "metadata": {},
   "outputs": [
    {
     "data": {
      "text/html": [
       "<div>\n",
       "<style>\n",
       "    .dataframe thead tr:only-child th {\n",
       "        text-align: right;\n",
       "    }\n",
       "\n",
       "    .dataframe thead th {\n",
       "        text-align: left;\n",
       "    }\n",
       "\n",
       "    .dataframe tbody tr th {\n",
       "        vertical-align: top;\n",
       "    }\n",
       "</style>\n",
       "<table border=\"1\" class=\"dataframe\">\n",
       "  <thead>\n",
       "    <tr style=\"text-align: right;\">\n",
       "      <th></th>\n",
       "      <th>0</th>\n",
       "    </tr>\n",
       "  </thead>\n",
       "  <tbody>\n",
       "    <tr>\n",
       "      <th>count</th>\n",
       "      <td>10000.0000</td>\n",
       "    </tr>\n",
       "    <tr>\n",
       "      <th>mean</th>\n",
       "      <td>49.4660</td>\n",
       "    </tr>\n",
       "    <tr>\n",
       "      <th>std</th>\n",
       "      <td>28.7219</td>\n",
       "    </tr>\n",
       "    <tr>\n",
       "      <th>min</th>\n",
       "      <td>0.0000</td>\n",
       "    </tr>\n",
       "    <tr>\n",
       "      <th>25%</th>\n",
       "      <td>25.0000</td>\n",
       "    </tr>\n",
       "    <tr>\n",
       "      <th>50%</th>\n",
       "      <td>49.0000</td>\n",
       "    </tr>\n",
       "    <tr>\n",
       "      <th>75%</th>\n",
       "      <td>74.0000</td>\n",
       "    </tr>\n",
       "    <tr>\n",
       "      <th>max</th>\n",
       "      <td>99.0000</td>\n",
       "    </tr>\n",
       "  </tbody>\n",
       "</table>\n",
       "</div>"
      ],
      "text/plain": [
       "                0\n",
       "count  10000.0000\n",
       "mean      49.4660\n",
       "std       28.7219\n",
       "min        0.0000\n",
       "25%       25.0000\n",
       "50%       49.0000\n",
       "75%       74.0000\n",
       "max       99.0000"
      ]
     },
     "execution_count": 9,
     "metadata": {},
     "output_type": "execute_result"
    }
   ],
   "source": [
    "# Create a uniform distribution of 10000 integers between 0 and 100.\n",
    "non_normal_data = np.random.randint(low=0, high=100, size=10000)\n",
    "\n",
    "non_normal_data\n",
    "df= pd.DataFrame(non_normal_data)\n",
    "df.describe()\n",
    "# Use plt.hist() to visual our the distribution of our dummy data set\n"
   ]
  },
  {
   "cell_type": "code",
   "execution_count": 8,
   "metadata": {},
   "outputs": [
    {
     "data": {
      "text/plain": [
       "(array([ 1027.,  1014.,   996.,   995.,  1017.,   999.,   993.,  1028.,\n",
       "          999.,   932.]),\n",
       " array([  0. ,   9.9,  19.8,  29.7,  39.6,  49.5,  59.4,  69.3,  79.2,\n",
       "         89.1,  99. ]),\n",
       " <a list of 10 Patch objects>)"
      ]
     },
     "execution_count": 8,
     "metadata": {},
     "output_type": "execute_result"
    },
    {
     "data": {
      "image/png": "[encoded data removed]",
      "text/plain": [
       "<matplotlib.figure.Figure at 0x1b4e4718e10>"
      ]
     },
     "metadata": {},
     "output_type": "display_data"
    }
   ],
   "source": [
    "plt.hist(non_normal_data)"
   ]
  },
  {
   "cell_type": "code",
   "execution_count": 21,
   "metadata": {},
   "outputs": [
    {
     "data": {
      "text/plain": [
       "array([1, 4, 9, 0, 9, 6, 4, 9, 4, 1, 7, 0, 3, 0, 0, 6, 8, 4, 0, 0])"
      ]
     },
     "execution_count": 21,
     "metadata": {},
     "output_type": "execute_result"
    }
   ],
   "source": [
    "# Better example to show work on the priciple\n",
    "x= random.randint(10, size=20)\n",
    "x\n"
   ]
  },
  {
   "cell_type": "code",
   "execution_count": 28,
   "metadata": {},
   "outputs": [
    {
     "data": {
      "text/plain": [
       "array([0, 0, 0, 0, 0, 0, 1, 1, 3, 4, 4, 4, 4, 6, 6, 7, 8, 9, 9, 9])"
      ]
     },
     "execution_count": 28,
     "metadata": {},
     "output_type": "execute_result"
    }
   ],
   "source": [
    "x.sort()\n",
    "x"
   ]
  },
  {
   "cell_type": "code",
   "execution_count": 30,
   "metadata": {},
   "outputs": [
    {
     "data": {
      "text/plain": [
       "(array([ 6.,  2.,  0.,  1.,  4.,  0.,  2.,  1.,  1.,  3.]),\n",
       " array([ 0. ,  0.9,  1.8,  2.7,  3.6,  4.5,  5.4,  6.3,  7.2,  8.1,  9. ]),\n",
       " <a list of 10 Patch objects>)"
      ]
     },
     "execution_count": 30,
     "metadata": {},
     "output_type": "execute_result"
    },
    {
     "data": {
      "image/png": "[encoded data removed]",
      "text/plain": [
       "<matplotlib.figure.Figure at 0x1b4e4e71128>"
      ]
     },
     "metadata": {},
     "output_type": "display_data"
    }
   ],
   "source": [
    "plt.hist(x)"
   ]
  },
  {
   "cell_type": "code",
   "execution_count": 35,
   "metadata": {},
   "outputs": [
    {
     "data": {
      "text/plain": [
       "Text(0,0.5,'Value')"
      ]
     },
     "execution_count": 35,
     "metadata": {},
     "output_type": "execute_result"
    },
    {
     "data": {
      "image/png": "[encoded data removed]",
      "text/plain": [
       "<matplotlib.figure.Figure at 0x1b4e6008ef0>"
      ]
     },
     "metadata": {},
     "output_type": "display_data"
    }
   ],
   "source": [
    "plt.hist(x)\n",
    "plt.title('Frequency Distribution')\n",
    "plt.xlabel('Integer')\n",
    "plt.ylabel('Value')"
   ]
  },
  {
   "cell_type": "code",
   "execution_count": 66,
   "metadata": {},
   "outputs": [
    {
     "data": {
      "text/plain": [
       "array([  8.47781436e+00,   3.81013902e+00,   5.98946782e-01,\n",
       "         1.22240176e+01,  -1.34870631e+00,   1.20167258e+00,\n",
       "         1.28938303e+01,   1.37312341e+01,  -2.85118316e+00,\n",
       "        -1.40467165e+01,   1.47950422e+00,  -3.02623561e+00,\n",
       "         1.52053828e+01,  -7.07547568e+00,  -6.45708121e+00,\n",
       "        -3.60231064e+00,   7.70012757e+00,  -7.50937742e+00,\n",
       "        -1.53833016e+01,  -8.34581168e+00,   1.92798973e+01,\n",
       "        -5.73719673e+00,   7.58250648e+00,   1.20618800e+01,\n",
       "        -1.21671292e+01,  -1.21263502e+01,  -1.23254347e+01,\n",
       "         1.41364293e+01,   4.48296734e+00,   8.85070050e+00,\n",
       "         1.44824294e+00,   1.11321267e+01,  -1.39196821e+01,\n",
       "         4.01348449e+00,  -1.96254588e+01,  -3.09307389e+00,\n",
       "        -1.40317595e+00,   1.20162938e+01,   6.84898432e+00,\n",
       "         4.56800631e-01,   2.84134637e+00,  -1.31514856e+00,\n",
       "        -6.09419685e+00,  -2.96256193e+00,   2.73350126e+00,\n",
       "         3.65376488e+00,   4.51138606e+00,  -9.72715725e+00,\n",
       "         4.52962173e+00,  -4.00561648e+00,  -2.95690624e+00,\n",
       "         2.05652996e+01,   2.68766251e-01,   7.47969903e+00,\n",
       "        -7.50514864e+00,  -1.86675438e+01,   8.96702446e+00,\n",
       "        -9.06713514e+00,  -3.31879288e+00,   6.35566100e+00,\n",
       "         4.93573032e-01,   2.40380334e+00,   5.83852082e+00,\n",
       "         2.04403667e+01,   1.22947578e+01,   9.72578294e+00,\n",
       "        -5.00000234e+00,  -1.92899849e+00,   2.50719414e+01,\n",
       "         2.72874165e+01,  -2.63744641e+00,   4.62445008e+00,\n",
       "         1.29689073e+00,  -1.61990718e+00,  -4.21289963e+00,\n",
       "        -7.88771358e+00,  -8.69266330e+00,  -8.56480107e+00,\n",
       "        -4.52000787e+00,  -6.25230859e+00,  -3.86662524e+00,\n",
       "        -1.10378963e+01,   8.62137410e+00,   1.25073522e+01,\n",
       "        -5.72358733e+00,  -4.43708181e-01,   1.21362139e+00,\n",
       "         2.20920195e+00,  -9.62390369e+00,  -3.77367739e+00,\n",
       "         4.31473357e+00,   5.33466114e+00,  -7.37657690e+00,\n",
       "        -1.03142907e+01,   7.50803645e+00,   1.25243502e+00,\n",
       "         7.05460462e+00,   1.36681014e+01,  -4.19586870e+00,\n",
       "         2.25002990e+01,  -1.20328391e+00,   8.78263499e+00,\n",
       "         5.98040762e+00,  -1.19395195e+01,   2.70130636e+01,\n",
       "        -8.56757063e-01,  -3.07605579e+00,  -1.11678989e+01,\n",
       "        -1.67519125e+00,   1.06197214e+01,   1.32235814e+01,\n",
       "        -7.42221808e+00,  -8.14569772e+00,  -8.22174424e+00,\n",
       "         7.26826318e+00,   3.85139228e+00,   2.20961346e+00,\n",
       "         9.28558565e+00,  -8.10351861e+00,   1.30422396e+01,\n",
       "         1.17755169e+01,   2.06414078e+00,  -5.16784461e+00,\n",
       "        -1.07155197e+01,  -1.38727479e+01,   2.56129207e+00,\n",
       "         2.04012063e+01,  -1.18486228e+01,   4.27973415e+00,\n",
       "         1.84746287e+01,   1.42741333e+00,  -9.34179835e-01,\n",
       "         9.62485827e-02,  -1.12254515e+01,  -1.16905983e+01,\n",
       "        -9.64815719e+00,  -2.88205176e+00,  -9.94511176e-01,\n",
       "         1.66378630e+00,  -2.87618772e+00,   9.32522013e-01,\n",
       "         1.86038957e+00,  -2.97360976e+01,   1.13549970e+01,\n",
       "        -1.34048220e+01,   2.41353576e+00,   1.07908257e+00,\n",
       "         7.52664360e+00,  -1.76504886e+01,  -3.70326249e-02,\n",
       "         8.98078210e+00,  -9.03860091e+00,  -1.46188943e+01,\n",
       "        -3.76679544e+00,  -3.53973417e+00,  -5.78645999e+00,\n",
       "        -4.18347721e+00,  -3.40149776e+00,  -3.39412224e-01,\n",
       "         7.81223034e+00,  -8.14710962e+00,   1.29479337e+01,\n",
       "         1.61680428e-01,   6.34737711e-02,  -3.76486093e+00,\n",
       "         7.99779766e-01,  -1.48792159e+01,  -1.72619485e+00,\n",
       "         1.84381938e+01,  -1.02712700e+01,  -7.92796938e+00,\n",
       "        -4.57724693e+00,   7.96934634e+00,  -1.40121647e+01,\n",
       "         1.89720563e+00,  -7.89264096e+00,   8.77709949e+00,\n",
       "        -2.25713823e+00,   9.68347250e+00,   2.10545798e+01,\n",
       "         7.33498103e+00,   5.41043219e+00,   1.40689681e+01,\n",
       "        -1.03032191e+01,  -7.24360273e+00,   8.41827702e+00,\n",
       "        -9.05910950e+00,  -4.48324251e+00,   8.31698540e+00,\n",
       "        -7.16967886e+00,   1.27444936e+01,  -1.40387591e+00,\n",
       "        -4.52807934e+00,   2.78740943e+01,   8.70079082e+00,\n",
       "        -1.18854852e+01,  -9.93495533e+00,  -6.28802414e+00,\n",
       "         1.79898461e+01,   1.22440119e+01,  -1.56345599e+00,\n",
       "         5.23348888e+00,   1.53720444e+01,   2.24296052e+01,\n",
       "        -4.78051164e+00,  -1.74481495e+01,  -1.16018453e+01,\n",
       "         1.63700874e+01,  -2.43325212e+01,  -1.16271517e+01,\n",
       "         4.66518380e+00,   1.17074903e+01,   6.26952117e+00,\n",
       "         1.82716208e+01,  -5.61077718e+00,   2.60158165e+01,\n",
       "         1.40638770e+01,   4.71133003e+00,  -4.27163314e+00,\n",
       "         1.00122992e+01,  -1.88983534e+00,  -1.37901704e+00,\n",
       "        -6.39333297e+00,   1.99714235e+00,   4.13836557e+00,\n",
       "         2.28303312e-01,  -1.06057847e+01,  -1.51509221e+01,\n",
       "         7.79709166e+00,  -1.09404129e+01,   5.53346115e-02,\n",
       "        -6.68455383e+00,  -9.11385386e+00,  -1.00644732e+00,\n",
       "        -2.55474718e+00,   9.91827323e+00,  -6.31019936e+00,\n",
       "        -8.13387351e+00,  -7.55671731e-01,  -1.00550858e+01,\n",
       "         3.19478712e+00,  -5.78260762e-01,   1.84664480e+00,\n",
       "         7.54475878e+00,   1.73824814e+01,   1.35554464e+01,\n",
       "        -1.25595929e+01,   6.87548271e+00,   2.54501386e+00,\n",
       "        -1.29918777e+01,  -1.05893946e+01,  -3.04966048e+00,\n",
       "         6.90077452e+00,   1.98452996e+00,  -1.04372217e+01,\n",
       "        -5.54022855e-01,   3.98729712e+00,  -1.07970873e+01,\n",
       "         8.91975413e+00,  -1.18584373e+01,   7.83637930e+00,\n",
       "        -1.86306298e+01,   1.72960282e+01,  -2.21205714e+01,\n",
       "        -1.45207979e+01,  -9.71496788e+00,   5.80305804e+00,\n",
       "         1.41804159e+00,  -3.70064458e+00,  -1.24440543e+01,\n",
       "        -8.10733389e+00,   7.52445338e+00,  -6.53132796e+00,\n",
       "        -1.07092928e+01,  -1.22707626e+01,   1.41104474e+01,\n",
       "         1.08306735e+00,  -1.23950971e+01,   9.31884836e-01,\n",
       "        -1.92970005e+00,   5.11311856e+00,   1.47326899e+01,\n",
       "         8.25852132e+00,   1.28163540e+00,  -1.17047328e+00,\n",
       "        -6.98587599e+00,   1.61967969e+01,   7.27760999e+00,\n",
       "        -1.14752427e+01,  -9.99053668e+00,  -8.89792583e+00,\n",
       "         8.42319323e+00,  -1.63361685e+00,   9.90307770e+00,\n",
       "         6.66366538e+00,  -8.32628074e+00,   5.75629749e+00,\n",
       "         1.35010388e+00,   7.64390126e+00,   1.77345738e+00,\n",
       "        -6.78055090e+00,   2.98015440e+00,   7.63427059e+00,\n",
       "         4.64115051e+00,  -2.11834430e+01,   3.71637185e-01,\n",
       "        -6.84611590e+00,   1.58609331e+01,  -2.25769270e+01,\n",
       "         8.23711580e+00,   9.44996190e+00,   1.48587689e+01,\n",
       "        -4.10337958e+00,  -7.44308566e+00,  -4.73548884e+00,\n",
       "         1.71186390e+01,   7.41121569e+00,  -4.45778728e+00,\n",
       "        -7.87939164e+00,  -7.60071898e+00,   7.64309353e+00,\n",
       "         1.07305151e+01,   2.82993426e+00,  -6.87390339e+00,\n",
       "        -2.45092749e+00,  -6.93922880e+00,  -1.62290649e-01,\n",
       "        -7.48086831e+00,  -1.08544476e+01,  -8.45569290e+00,\n",
       "         5.68531842e+00,  -1.40205105e+01,   1.65018250e+01,\n",
       "        -1.05894113e+01,  -1.24769652e+01,   6.56295128e+00,\n",
       "         1.51403927e+01,   2.69768947e+00,  -6.13486557e+00,\n",
       "         4.62000428e-01,  -2.79502365e+00,   1.22209550e+01,\n",
       "        -3.73078197e+00,  -8.63285787e+00,  -2.15432086e+01,\n",
       "         1.47476436e+01,   7.39902852e-01,  -2.18686588e+00,\n",
       "         1.13416872e+01,   3.65387792e+00,   9.53065693e+00,\n",
       "         3.12326584e+00,  -1.19647552e+01,  -3.73802472e+00,\n",
       "         1.00260966e+01,  -1.42143914e+00,  -6.72453605e+00,\n",
       "         1.46066546e+01,   6.38901377e-01,  -3.63595235e-01,\n",
       "        -1.06246214e+01,  -1.07157371e+00,  -9.70211005e+00,\n",
       "        -7.21437337e+00,   5.42637832e+00,  -4.07536771e+00,\n",
       "        -7.74746319e+00,  -3.07832236e+00,  -7.99915801e+00,\n",
       "        -2.06810090e+01,  -3.15357632e+00,  -6.92691761e+00,\n",
       "         2.18936656e+00,   8.09625809e+00,  -8.14376959e+00,\n",
       "         6.54527658e+00,   5.71600486e+00,   5.30607101e+00,\n",
       "         1.61689402e+00,   1.57248751e+01,  -1.11944138e-01,\n",
       "        -6.23139585e+00,   3.08857355e+00,  -5.69421794e+00,\n",
       "         8.97085060e+00,  -8.82623640e+00,   2.60252401e+00,\n",
       "        -3.58492497e+00,  -1.04689656e+01,  -1.00456297e+00,\n",
       "         3.21589839e+01,  -5.30334817e+00,  -1.16527090e+00,\n",
       "        -3.75059170e+00,   4.13714494e+00,   2.41766339e+01,\n",
       "        -4.20786549e+00,  -6.21025580e+00,  -3.16309319e+00,\n",
       "        -6.61342993e+00,  -7.48877988e+00,   1.61762392e+01,\n",
       "        -1.84744473e+00,  -2.26273728e+01,   5.80374259e+00,\n",
       "        -1.91030453e+00,   3.12505917e+00,   4.27946923e+00,\n",
       "         1.58642232e+01,  -1.17812541e+01,  -9.90431869e+00,\n",
       "         3.16102098e+00,   7.22272403e+00,  -6.97987830e+00,\n",
       "        -8.07111687e+00,   1.36478688e+00,  -7.30580876e+00,\n",
       "        -6.39235807e+00,   4.66355021e+00,   1.89446720e+00,\n",
       "        -8.81065412e+00,   1.47855579e+01,   5.08645053e+00,\n",
       "        -5.60071310e+00,   1.10137929e+01,  -3.47891503e+00,\n",
       "        -2.22699526e+00,  -7.28190849e+00,   7.99021333e+00,\n",
       "        -1.20309157e+01,   4.94972393e+00,   1.42887383e+01,\n",
       "        -1.08381226e+01,  -9.26462645e+00,  -6.24607588e+00,\n",
       "         2.20293059e+00,  -3.41390863e+00,   5.27469344e+00,\n",
       "         1.52508657e+01,  -1.31959287e+01,  -9.43109754e+00,\n",
       "         3.77243421e+00,  -1.35790257e+01,  -4.32972156e+00,\n",
       "        -5.39598715e+00,   4.20826320e+00,   9.01868727e+00,\n",
       "         1.11556069e+00,  -8.20823573e+00,   1.53554010e+01,\n",
       "         1.17440403e+00,   7.98214418e+00,   3.44267891e+00,\n",
       "         2.08270460e+01,  -1.24768494e+00,  -7.28138210e+00,\n",
       "        -1.40961839e+01,   9.75776176e+00,   2.35445373e+00,\n",
       "         1.38831500e+00,   3.27782587e+00,  -3.82947729e+00,\n",
       "         1.97302229e-01,   5.99246578e+00,  -2.36639928e+00,\n",
       "        -5.63854015e+00,   8.45288896e+00,  -2.11627013e+00,\n",
       "         9.60205725e+00,   2.16544362e+01,   1.07567790e+01,\n",
       "        -7.62339128e+00,  -1.17488640e+01,  -3.23616206e+00,\n",
       "         1.47165016e+01,   8.57487327e+00,  -1.06417920e+01,\n",
       "         6.05673247e+00,   7.41778661e-01,   5.80531760e+00,\n",
       "         1.60827189e+01,  -5.64337941e+00,  -9.07681431e+00,\n",
       "         1.48260687e-01,   8.67672295e+00,   9.77375247e-01,\n",
       "        -1.80384810e+00,   4.92028006e+00,   3.17426464e+00,\n",
       "         1.20193373e+01,   2.38774630e+00,   4.39650399e-01,\n",
       "         5.36186405e+00,  -2.73142995e+00,   1.59000067e+01,\n",
       "         3.32427575e+00,  -6.70910698e+00,   3.39734856e+00,\n",
       "        -5.05147987e+00,  -1.07220862e+01,   2.86981400e+00,\n",
       "        -8.60925104e+00,   7.00787697e+00,   4.83435607e+00,\n",
       "        -8.52293724e-01,  -1.04758634e+01,  -2.70203517e+00,\n",
       "         7.81279190e+00,   6.96615292e-01,  -5.19493146e+00,\n",
       "         1.10296926e+01,   4.19110908e+00,   4.43700359e+00,\n",
       "        -5.43429668e+00,   1.24492564e+01,   1.35430492e+01,\n",
       "        -6.36974436e+00,   3.36940541e+00,  -1.93050211e+01,\n",
       "         1.71744981e+00,   1.71568268e+00,  -3.65481248e+00,\n",
       "         9.77618034e-01,  -1.53486075e+01,   5.98616055e+00,\n",
       "         1.41530783e+01,   1.46384834e+01,   4.65221222e+00,\n",
       "        -5.33516019e+00,  -2.16772219e+01,   6.80566847e+00,\n",
       "         5.01041941e+00,   7.78060919e+00,   1.96663301e+00,\n",
       "        -8.10738955e+00,   1.00700216e+01,   3.16818588e+00,\n",
       "         2.20141326e+00,  -2.03323479e+00,   6.08912884e+00,\n",
       "        -1.50249612e+00,  -1.40552122e+01,  -2.70524713e+00,\n",
       "         4.07594440e+00,  -1.12123771e+00,  -1.71702938e+00,\n",
       "         4.74342056e+00,   1.11637296e+01,  -1.48459009e+01,\n",
       "         5.26012591e+00,   1.53411694e+01,  -2.87065072e+00,\n",
       "         1.64419983e+01,  -8.96911228e+00,   4.02676548e+00,\n",
       "         1.29461750e+00,   1.25144242e+01,  -1.94369305e+01,\n",
       "         1.01009242e+00,  -4.10915963e+00,   8.32870306e+00,\n",
       "        -7.05064541e+00,  -7.74266415e+00,  -1.91129628e+01,\n",
       "         1.08236578e+01,  -3.04531803e+00,  -1.66861090e+01,\n",
       "         1.15163703e+00,  -8.73565706e+00,   9.79396276e+00,\n",
       "        -2.55543481e+00,  -1.70414304e+00,  -6.00811461e+00,\n",
       "         1.46172799e+01,  -2.09339185e+00,   3.29590304e+00,\n",
       "        -1.56911489e+01,   1.83638741e+01,   8.02315820e-01,\n",
       "         3.39175765e+00,   7.60403099e+00,   1.01309408e+01,\n",
       "        -1.16226820e+01,  -7.23717478e+00,  -7.47292094e+00,\n",
       "        -1.64702034e+00,   3.77312406e+00,   1.29615503e+01,\n",
       "         7.84230206e+00,  -8.86032055e+00,   1.13288464e+01,\n",
       "         1.45386041e+01,  -1.35111987e+00,  -1.08813898e+01,\n",
       "        -5.65676901e+00,   3.69331992e+00,   1.00584952e+01,\n",
       "        -3.29917929e+00,  -4.94516380e+00,  -5.26122687e-01,\n",
       "         6.04962916e+00,  -9.27559173e+00,  -8.45467361e+00,\n",
       "         1.09011110e+01,   1.20672665e+00,   2.10416762e+00,\n",
       "         5.28691821e+00,  -1.03988938e+01,   5.70351679e+00,\n",
       "        -2.04122056e+00,  -3.47818906e+00,   4.24145595e+00,\n",
       "         6.84408497e-01,   4.05746470e+00,   4.53756069e+00,\n",
       "         1.80645349e+00,   1.27210045e+01,  -5.82794939e+00,\n",
       "         8.18969349e+00,  -7.32516973e+00,   1.43082310e+01,\n",
       "         2.01779525e+00,  -9.46010525e+00,  -1.71122962e+01,\n",
       "        -2.06118229e-01,  -1.33096046e+01,   2.48911538e+00,\n",
       "        -3.73755257e+00,   1.60843536e+00,   1.87986931e+00,\n",
       "         3.46408377e+00,   2.37919816e+00,  -4.17786213e-01,\n",
       "         1.46716530e+01,  -9.61674324e+00,  -1.20860217e+01,\n",
       "         1.00480881e+01,   9.24705694e+00,  -9.33494235e+00,\n",
       "         6.61154129e+00,   1.16590976e+01,  -1.72583368e+00,\n",
       "        -3.28039456e+00,  -7.69533479e+00,  -3.15047587e+00,\n",
       "        -9.89449088e+00,  -3.90273523e-01,   8.44798798e+00,\n",
       "         9.72837927e+00,   1.00735061e+01,   2.07349498e+01,\n",
       "        -1.27698687e+01,   1.53212856e+01,   5.53297185e+00,\n",
       "         5.89900064e+00,   9.55241932e+00,   2.46381495e+00,\n",
       "         5.46566530e+00,  -2.16183378e+00,  -3.23647071e+00,\n",
       "        -8.28953839e+00,  -1.37602531e+01,  -1.55460369e+01,\n",
       "         8.26614598e+00,   2.21895923e+00,  -9.20197892e+00,\n",
       "         1.91630258e+01,   7.21951091e+00,   1.46244598e+01,\n",
       "         1.32810710e+01,  -5.30771441e+00,   6.05306883e+00,\n",
       "        -1.89934260e+01,  -8.11481458e+00,   8.53300794e+00,\n",
       "        -5.31051647e+00,  -5.20938575e+00,  -6.01408857e+00,\n",
       "        -9.23859531e+00,   3.37624903e+00,  -4.83619925e+00,\n",
       "         1.97150616e+00,  -4.48368468e+00,   3.86716362e+00,\n",
       "         3.76492059e+00,   2.14165179e+00,   6.82541932e+00,\n",
       "         3.18857884e+00,   1.09608898e+01,  -8.16410617e+00,\n",
       "        -2.36205827e+01,   1.75687368e+01,  -2.17559299e+01,\n",
       "         8.64836368e+00,  -9.31563938e+00,   6.99162293e+00,\n",
       "         1.59073509e+01,   4.28409896e+00,  -1.33495895e+00,\n",
       "        -1.36849421e+01,  -5.33352890e+00,  -2.67857785e+00,\n",
       "        -4.85394603e-01,   7.94995407e+00,   3.00481237e+00,\n",
       "        -1.50078720e+00,  -6.31336222e+00,  -4.63414436e-01,\n",
       "         1.54436759e+01,   6.00163787e+00,  -1.25993643e+01,\n",
       "         3.92555251e-01,  -1.46535277e+01,  -5.13006062e+00,\n",
       "         1.79390692e+00,   3.62692496e+00,  -9.08682167e+00,\n",
       "         1.15735793e+01,   4.67666677e+00,   9.68599945e+00,\n",
       "        -9.18799450e-01,  -1.35798178e+01,  -1.39247052e+00,\n",
       "         5.34185860e+00,   2.05682788e+00,  -2.21807239e+01,\n",
       "         1.53270110e+01,  -1.88535464e+00,  -1.66764356e-04,\n",
       "         7.36911754e+00,  -3.60335006e+00,  -1.02276061e+01,\n",
       "         6.26412891e+00,  -4.97755356e+00,  -1.69570651e+01,\n",
       "        -7.87548715e+00,   4.62400185e+00,   9.00973499e+00,\n",
       "        -9.60797865e+00,  -7.99179228e+00,  -1.56137905e+01,\n",
       "        -1.45361073e-01,   2.23711679e+01,   2.60054736e+00,\n",
       "         8.15001990e+00,   4.50653862e+00,  -1.13192580e+00,\n",
       "        -1.32801743e+01,  -4.20247354e-01,   2.14834988e-01,\n",
       "         2.94926321e-01,   7.94193558e+00,  -1.57273621e+01,\n",
       "         8.03396212e+00,  -2.87024935e+00,  -4.25400511e+00,\n",
       "         3.10106011e-01,   9.43075678e+00,   2.01352671e+01,\n",
       "         9.84512292e-01,  -1.02640592e+01,   1.32203985e+01,\n",
       "         1.31615866e+01,   1.20024028e-02,  -1.56169870e+00,\n",
       "         3.34927297e+00,   5.64460442e+00,  -1.26102507e+01,\n",
       "        -6.59634866e+00,  -1.03828441e+01,   3.36002848e+00,\n",
       "        -2.93524247e+00,   4.98702189e+00,  -3.99785132e+00,\n",
       "        -1.89772931e+01,   2.39965800e+00,   7.65515117e+00,\n",
       "        -1.11323862e+00,   4.88033733e-01,   1.60369368e+01,\n",
       "         3.45644076e+00,   3.13168237e+00,  -1.47158825e+01,\n",
       "        -1.07764007e+01,   4.29796638e+00,   2.83236672e+00,\n",
       "        -2.59734830e+00,  -1.92102134e+00,   7.48848983e+00,\n",
       "        -3.62117803e+00,   1.15511970e+01,   1.16247785e+01,\n",
       "        -8.26181574e+00,  -1.10851429e+01,   1.09608705e+01,\n",
       "        -4.15068541e+00,  -1.64599401e+01,  -4.62060364e+00,\n",
       "        -1.67259807e+00,   1.11571586e+00,   1.54354473e+01,\n",
       "        -1.06680656e+00,  -4.59443464e+00,  -1.15240513e+01,\n",
       "         4.50876485e+00,   4.31381465e-01,  -6.66405373e+00,\n",
       "         4.66051984e+00,  -1.00043133e+01,  -1.24456749e+00,\n",
       "         1.70297126e+01,   8.12045795e+00,   1.01847278e+01,\n",
       "         1.84350060e+01,  -6.89049131e+00,   2.46557557e+00,\n",
       "         1.21334136e+01,  -3.85580828e+00,  -5.26800799e+00,\n",
       "         2.20653063e+01,  -4.51907528e+00,   7.61645621e+00,\n",
       "         7.81130921e-01,   2.04696005e+01,   1.12744409e+01,\n",
       "         1.19652567e+00,  -1.35140587e+01,  -7.52195547e-01,\n",
       "         2.41332772e-01,   8.85900620e+00,  -1.05229784e-01,\n",
       "        -7.09285140e+00,  -9.36813091e-01,   3.54288660e-01,\n",
       "        -1.27715865e+01,   4.80740669e+00,  -1.77402989e+01,\n",
       "         4.09083634e+00,   7.35189466e+00,   3.78385173e+00,\n",
       "        -4.01781282e-01,   5.42960689e+00,  -3.23600355e+00,\n",
       "        -2.09139282e+00,  -1.72629427e+01,  -2.44711436e+00,\n",
       "         5.13157552e+00,   4.96200097e-01,   4.43023409e+00,\n",
       "         5.29866387e+00,  -1.62843506e+01,   2.65792300e+00,\n",
       "         1.37254206e+00,   1.19043739e+00,   4.93892679e+00,\n",
       "        -9.83548545e+00,  -1.56935480e+00,   1.28764122e+01,\n",
       "         7.86892720e+00,   1.54587709e+01,  -5.16740820e+00,\n",
       "        -9.70025930e-01,   6.43199323e+00,  -9.33296129e+00,\n",
       "         5.14611030e+00,   7.07329679e+00,   1.28518352e+01,\n",
       "         4.05699651e+00,   4.87496135e+00,   1.39998415e+01,\n",
       "        -4.12040888e+00,   2.07338213e+00,   3.98486919e+00,\n",
       "        -1.51757445e+01,   2.66001079e+01,   8.64154612e+00,\n",
       "         1.62381743e+01,   2.09658811e+01,   8.87659817e+00,\n",
       "         2.67941930e+01,   7.31730315e+00,   1.59614429e+01,\n",
       "        -2.15320956e+00,   5.00211926e+00,   1.85018804e+01,\n",
       "         9.91893709e+00,  -2.51591273e+00,   1.76656373e+01,\n",
       "        -2.10203265e+00,  -6.55516571e+00,  -3.30565078e+00,\n",
       "         1.90513512e+01,  -1.43949015e+00,   4.84152695e+00,\n",
       "         1.34783803e+01,   2.57296747e+00,  -2.60076345e+00,\n",
       "        -6.00625848e+00,   1.04725102e+01,   2.08034215e+00,\n",
       "        -5.90897127e+00,  -1.09132838e+01,  -1.40883184e+01,\n",
       "        -8.62911889e+00,  -6.67329878e-01,   1.85465328e+01,\n",
       "         1.38804606e+01,   5.80155208e+00,   9.96693116e+00,\n",
       "        -4.32522749e+00,  -2.04002753e+00,  -1.04579356e+00,\n",
       "         1.61413664e+01,   8.02251800e+00,   6.47362808e+00,\n",
       "        -6.11282647e+00,  -1.19398885e+01,   3.51054982e+00,\n",
       "        -1.19696279e+01,  -6.16502875e+00,   7.58606592e+00,\n",
       "         7.04319726e-01,  -1.39931668e+01,  -7.82912771e+00,\n",
       "         1.44357923e+01,  -1.92047196e+00,   1.24469457e+01,\n",
       "        -1.50109734e+01,   1.17013981e+01,  -6.32661802e+00,\n",
       "         4.60303296e+00,  -6.03397386e+00,   1.75417692e+01,\n",
       "        -1.24061633e+01,  -4.32435095e+00,  -9.27831307e+00,\n",
       "         1.36655973e-02,   1.36257924e+01,  -7.28455987e+00,\n",
       "         6.99448019e+00,   1.60725284e-01,  -9.60401666e+00,\n",
       "         1.04488856e+01,   2.58470911e+00,   1.68115580e+01,\n",
       "         1.16010836e+01,  -7.58751377e+00,   9.58280451e+00,\n",
       "         1.13994995e+01,  -8.71914985e-01,   1.14322362e+01,\n",
       "        -3.21410978e+00,  -8.60314466e+00,   7.52759047e+00,\n",
       "        -6.41624195e+00,   6.27931729e+00,  -1.92023130e+01,\n",
       "         1.47645105e+01,  -3.54806816e+00,   3.30820478e+00,\n",
       "        -4.22296641e-01,   1.99505527e+01,   7.40035373e+00,\n",
       "         6.06196995e+00,  -1.01209779e+01,  -2.46267022e+01,\n",
       "        -2.08917287e-01,   1.14354694e+01,  -1.32458317e+01,\n",
       "         2.94017143e+00,  -1.06290787e+01,   1.05329061e-03,\n",
       "         9.53599560e+00,  -4.87478044e+00,   2.67497193e+00,\n",
       "         8.15424283e+00,   9.86220325e+00,  -1.19302087e+00,\n",
       "        -1.84793339e+01,  -9.74257339e+00,  -1.00912805e+01,\n",
       "         1.95797093e+00,   3.09733886e+00,  -8.31381557e+00,\n",
       "         1.15793729e+01,  -1.17373746e+01,  -1.49424879e+00,\n",
       "        -9.13809671e-01,  -2.90843529e+00,   5.91161101e+00,\n",
       "         6.36809105e+00,  -1.88132876e+01,   1.54282025e-01,\n",
       "        -1.97248112e+00,   6.64338336e-01,  -2.94866379e+00,\n",
       "         1.10408230e+01,  -1.30710099e+01,   1.62564646e+01,\n",
       "         1.70289973e+01])"
      ]
     },
     "execution_count": 66,
     "metadata": {},
     "output_type": "execute_result"
    }
   ],
   "source": [
    "#creating a random sample size of 1000\n",
    "x_rand=random.normal(scale=10,size=1000)\n",
    "x_rand"
   ]
  },
  {
   "cell_type": "code",
   "execution_count": 67,
   "metadata": {},
   "outputs": [
    {
     "data": {
      "text/plain": [
       "Text(0,0.5,'Value')"
      ]
     },
     "execution_count": 67,
     "metadata": {},
     "output_type": "execute_result"
    },
    {
     "data": {
      "image/png": "[encoded data removed]",
      "text/plain": [
       "<matplotlib.figure.Figure at 0x1b4e63d1b70>"
      ]
     },
     "metadata": {},
     "output_type": "display_data"
    }
   ],
   "source": [
    "plt.hist(x_rand)\n",
    "plt.title('Frequency Distribution')\n",
    "plt.xlabel('Integer')\n",
    "plt.ylabel('Value')"
   ]
  },
  {
   "cell_type": "code",
   "execution_count": 68,
   "metadata": {},
   "outputs": [
    {
     "data": {
      "text/html": [
       "<div>\n",
       "<style>\n",
       "    .dataframe thead tr:only-child th {\n",
       "        text-align: right;\n",
       "    }\n",
       "\n",
       "    .dataframe thead th {\n",
       "        text-align: left;\n",
       "    }\n",
       "\n",
       "    .dataframe tbody tr th {\n",
       "        vertical-align: top;\n",
       "    }\n",
       "</style>\n",
       "<table border=\"1\" class=\"dataframe\">\n",
       "  <thead>\n",
       "    <tr style=\"text-align: right;\">\n",
       "      <th></th>\n",
       "      <th>0</th>\n",
       "    </tr>\n",
       "  </thead>\n",
       "  <tbody>\n",
       "    <tr>\n",
       "      <th>count</th>\n",
       "      <td>1000.000000</td>\n",
       "    </tr>\n",
       "    <tr>\n",
       "      <th>mean</th>\n",
       "      <td>0.572496</td>\n",
       "    </tr>\n",
       "    <tr>\n",
       "      <th>std</th>\n",
       "      <td>9.523779</td>\n",
       "    </tr>\n",
       "    <tr>\n",
       "      <th>min</th>\n",
       "      <td>-29.736098</td>\n",
       "    </tr>\n",
       "    <tr>\n",
       "      <th>25%</th>\n",
       "      <td>-6.337400</td>\n",
       "    </tr>\n",
       "    <tr>\n",
       "      <th>50%</th>\n",
       "      <td>0.411968</td>\n",
       "    </tr>\n",
       "    <tr>\n",
       "      <th>75%</th>\n",
       "      <td>7.287533</td>\n",
       "    </tr>\n",
       "    <tr>\n",
       "      <th>max</th>\n",
       "      <td>32.158984</td>\n",
       "    </tr>\n",
       "  </tbody>\n",
       "</table>\n",
       "</div>"
      ],
      "text/plain": [
       "                 0\n",
       "count  1000.000000\n",
       "mean      0.572496\n",
       "std       9.523779\n",
       "min     -29.736098\n",
       "25%      -6.337400\n",
       "50%       0.411968\n",
       "75%       7.287533\n",
       "max      32.158984"
      ]
     },
     "execution_count": 68,
     "metadata": {},
     "output_type": "execute_result"
    }
   ],
   "source": [
    "x_rand_df= pd.DataFrame(x_rand)\n",
    "x_rand_df.describe()"
   ]
  },
  {
   "cell_type": "code",
   "execution_count": 26,
   "metadata": {},
   "outputs": [
    {
     "data": {
      "text/html": [
       "<div>\n",
       "<style>\n",
       "    .dataframe thead tr:only-child th {\n",
       "        text-align: right;\n",
       "    }\n",
       "\n",
       "    .dataframe thead th {\n",
       "        text-align: left;\n",
       "    }\n",
       "\n",
       "    .dataframe tbody tr th {\n",
       "        vertical-align: top;\n",
       "    }\n",
       "</style>\n",
       "<table border=\"1\" class=\"dataframe\">\n",
       "  <thead>\n",
       "    <tr style=\"text-align: right;\">\n",
       "      <th></th>\n",
       "      <th>0</th>\n",
       "    </tr>\n",
       "  </thead>\n",
       "  <tbody>\n",
       "    <tr>\n",
       "      <th>count</th>\n",
       "      <td>20.000000</td>\n",
       "    </tr>\n",
       "    <tr>\n",
       "      <th>mean</th>\n",
       "      <td>3.750000</td>\n",
       "    </tr>\n",
       "    <tr>\n",
       "      <th>std</th>\n",
       "      <td>3.416292</td>\n",
       "    </tr>\n",
       "    <tr>\n",
       "      <th>min</th>\n",
       "      <td>0.000000</td>\n",
       "    </tr>\n",
       "    <tr>\n",
       "      <th>25%</th>\n",
       "      <td>0.000000</td>\n",
       "    </tr>\n",
       "    <tr>\n",
       "      <th>50%</th>\n",
       "      <td>4.000000</td>\n",
       "    </tr>\n",
       "    <tr>\n",
       "      <th>75%</th>\n",
       "      <td>6.250000</td>\n",
       "    </tr>\n",
       "    <tr>\n",
       "      <th>max</th>\n",
       "      <td>9.000000</td>\n",
       "    </tr>\n",
       "  </tbody>\n",
       "</table>\n",
       "</div>"
      ],
      "text/plain": [
       "               0\n",
       "count  20.000000\n",
       "mean    3.750000\n",
       "std     3.416292\n",
       "min     0.000000\n",
       "25%     0.000000\n",
       "50%     4.000000\n",
       "75%     6.250000\n",
       "max     9.000000"
      ]
     },
     "execution_count": 26,
     "metadata": {},
     "output_type": "execute_result"
    }
   ],
   "source": [
    "\n",
    "x_df= pd.DataFrame(x)\n",
    "x_df.describe()"
   ]
  },
  {
   "cell_type": "markdown",
   "metadata": {},
   "source": [
    "<center><h3>Creating a Sampling Function</h3></center>\n",
    "\n",
    "Now that we have created our data set, we'll need to sample from it.  In order to do this, you'll need to create two different functions--a `get_sample` to create random samples of size 'n', and a `create_sample_distribution` function to actually create a sample distribution of size `n` (using our helper function). \n",
    "\n",
    "Your `get_sample` function should:\n",
    "\n",
    "1.  Take a keyword argument for sample size (called 'n' for short)\n",
    "1.  Randomly grab 'n' samples from the uniform distribution with replacement (any samples selected should NOT be removed from the original data set).\n",
    "1.  Calculate the mean of the sub-sample and return it.\n",
    "\n",
    "\n",
    "Your `create_sample_distribution` function should:\n",
    "\n",
    "1.  Take a keyword argument for size, which will determine the total size of the sample distribution.\n",
    "1.  Use the `get_sample` helper function to create sample distributions and calculate sample mean.   \n",
    "1.  Store the sample mean.\n",
    "1.  Repeat this process until there a distribution of `[size]` sample means exist.  When the data set is complete, return it as a numpy array.  \n",
    "\n",
    "``` python\n",
    "def get_sample(dataset, n=30):\n",
    "    \"\"\"Grabs a random subsample of size 'n' from dataset.\n",
    "    Outputs the mean of the subsample.\"\"\"\n",
    "    pass\n",
    "\n",
    "def create_sample_distribution(dataset, size=100):\n",
    "    \"\"\"Creates a dataset of subsample means.  The length of the dataset is specified by the 'size' \n",
    "    keyword argument. Should return the entire sample distribution as a numpy array.  \"\"\"\n",
    "    pass\n",
    "```\n",
    "\n"
   ]
  },
  {
   "cell_type": "code",
   "execution_count": 72,
   "metadata": {},
   "outputs": [
    {
     "name": "stdout",
     "output_type": "stream",
     "text": [
      "                 0\n",
      "count  1000.000000\n",
      "mean     -0.015161\n",
      "std       1.026253\n",
      "min      -3.805122\n",
      "25%      -0.756755\n",
      "50%      -0.040221\n",
      "75%       0.731978\n",
      "max       4.028820\n"
     ]
    }
   ],
   "source": [
    "# Complete the two functions below. In progress to be done by class\n",
    "\n",
    "def get_sample(dataset, n=30):\n",
    "    \"\"\"Grabs a random subsample of size 'n' from dataset.\n",
    "    Outputs the mean of the subsample.\"\"\"\n",
    "    \n",
    "    sample_size = n\n",
    "    random_sample=pd.DataFrame(dataset)\n",
    "    \n",
    "    #testing to make sure it works as a data frame\n",
    "    #print(random_sample.describe())\n",
    "    \n",
    "    \n",
    "    #return mean_sample\n",
    "get_sample(x)\n",
    "\n",
    "def create_sample_distribution(dataset, size=100):\n",
    "    \"\"\"Creates a dataset of subsample means.  The length of the dataset is specified by the 'size' \n",
    "    keyword argument. Should return the entire sample distribution as a numpy array.  \"\"\"\n",
    "    \n",
    "    \n",
    "    return sample_dist\n"
   ]
  },
  {
   "cell_type": "markdown",
   "metadata": {},
   "source": [
    "<center><h3>Visualizing our Sample Distribution</h3></center>\n",
    "\n",
    "Now that we have created our sample distribution, let's visualize it to determine if it's a normal distribution.  \n",
    "\n",
    "**TASK:** Use matplotlib to visualize our sample distribution."
   ]
  },
  {
   "cell_type": "code",
   "execution_count": null,
   "metadata": {
    "collapsed": true
   },
   "outputs": [],
   "source": [
    "# Visualize our sample distribution below.\n",
    "# Remember, we aliased matplotlib.pyplot as plt!\n"
   ]
  },
  {
   "cell_type": "markdown",
   "metadata": {},
   "source": [
    "<center><h3>Great Job!</h3></center>\n",
    "\n",
    "Now that you've used the Central Limit Theorem, you're able to create to treat non-normally distributed datasets as normally distributed.  You can now compute Z-scores and compute probabilities for values in these datasets!  "
   ]
  }
 ],
 "metadata": {
  "kernelspec": {
   "display_name": "Python 3",
   "language": "python",
   "name": "python3"
  },
  "language_info": {
   "codemirror_mode": {
    "name": "ipython",
    "version": 3
   },
   "file_extension": ".py",
   "mimetype": "text/x-python",
   "name": "python",
   "nbconvert_exporter": "python",
   "pygments_lexer": "ipython3",
   "version": "3.6.3"
  }
 },
 "nbformat": 4,
 "nbformat_minor": 2
}
