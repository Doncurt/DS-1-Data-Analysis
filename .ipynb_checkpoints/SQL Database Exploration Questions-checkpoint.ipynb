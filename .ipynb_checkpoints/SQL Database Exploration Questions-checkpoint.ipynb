{
 "cells": [
  {
   "cell_type": "code",
   "execution_count": 26,
   "metadata": {
    "collapsed": true
   },
   "outputs": [],
   "source": [
    "# Run this cell to import the packages you'll need and set a seed\n",
    "import numpy as np\n",
    "import pandas as pd\n",
    "from numpy import random\n",
    "import matplotlib.pyplot as plt\n",
    "#importing of seaborn\n",
    "import seaborn as sns\n",
    "%matplotlib inline\n",
    "\n",
    "# Please dont change this--otherwise, you'll get different results from everyone else!\n",
    "np.random.seed(1547)"
   ]
  },
  {
   "cell_type": "markdown",
   "metadata": {},
   "source": [
    "# Question 1 :Write a query (or queries) that compares the average amount of investment raised by companies in SF per quarter to companies in NYC.\n"
   ]
  },
  {
   "cell_type": "code",
   "execution_count": null,
   "metadata": {
    "collapsed": true
   },
   "outputs": [],
   "source": [
    "SELECT company_city, avg\n",
    "FROM (SELECT company_city, AVG(raised_amount_usd) AS avg FROM tutorial.crunchbase_investments\n",
    "WHERE raised_amount_usd IS NOT NULL\n",
    "GROUP BY company_city\n",
    ") AS subquery\n",
    "WHERE subquery.company_city = 'New York' OR subquery.company_city = 'San Francisco'"
   ]
  },
  {
   "cell_type": "markdown",
   "metadata": {},
   "source": [
    "# Question 2 : Which top 3 categories of crime are most likely to go unresolved in Mission District?"
   ]
  },
  {
   "cell_type": "code",
   "execution_count": 2,
   "metadata": {},
   "outputs": [
    {
     "ename": "SyntaxError",
     "evalue": "invalid syntax (<ipython-input-2-d2d872449983>, line 1)",
     "output_type": "error",
     "traceback": [
      "\u001b[1;36m  File \u001b[1;32m\"<ipython-input-2-d2d872449983>\"\u001b[1;36m, line \u001b[1;32m1\u001b[0m\n\u001b[1;33m    SELECT category, COUNT(category) AS count FROM tutorial.sf_crime_incidents_cleandate\u001b[0m\n\u001b[1;37m                  ^\u001b[0m\n\u001b[1;31mSyntaxError\u001b[0m\u001b[1;31m:\u001b[0m invalid syntax\n"
     ]
    }
   ],
   "source": [
    "SELECT category, COUNT(category) AS count FROM tutorial.sf_crime_incidents_cleandate\n",
    "WHERE resolution = 'NONE' AND pd_district = 'MISSION'\n",
    "GROUP BY category\n",
    "ORDER BY count DESC\n",
    "LIMIT 3"
   ]
  },
  {
   "cell_type": "markdown",
   "metadata": {},
   "source": [
    "# Question 3: Companies from which 10 cities have the highest average acquisition amount?"
   ]
  },
  {
   "cell_type": "code",
   "execution_count": null,
   "metadata": {
    "collapsed": true
   },
   "outputs": [],
   "source": [
    "SELECT city, avg(price_amount) average FROM tutorial.crunchbase_companies companies\n",
    "JOIN tutorial.crunchbase_acquisitions acquisitions ON companies.name=acquisitions.company_name\n",
    "WHERE price_amount > 0\n",
    "GROUP BY city\n",
    "ORDER BY average DESC\n",
    "LIMIT 10"
   ]
  },
  {
   "cell_type": "markdown",
   "metadata": {},
   "source": [
    "# Question 4: Player names, player hometowns, school names, player positions, and school conferences for all players with position ‘QB’ or ‘WR’"
   ]
  },
  {
   "cell_type": "code",
   "execution_count": 1,
   "metadata": {},
   "outputs": [
    {
     "ename": "SyntaxError",
     "evalue": "invalid syntax (<ipython-input-1-895febb0f8ae>, line 1)",
     "output_type": "error",
     "traceback": [
      "\u001b[1;36m  File \u001b[1;32m\"<ipython-input-1-895febb0f8ae>\"\u001b[1;36m, line \u001b[1;32m1\u001b[0m\n\u001b[1;33m    select player_name, hometown, players.school_name, position, conference from benn.college_football_players players\u001b[0m\n\u001b[1;37m                     ^\u001b[0m\n\u001b[1;31mSyntaxError\u001b[0m\u001b[1;31m:\u001b[0m invalid syntax\n"
     ]
    }
   ],
   "source": [
    "SELECT player_name, hometown, players.school_name, position, conference FROM benn.college_football_players players\n",
    "JOIN benn.college_football_teams teams ON players.school_name = teams.school_name\n",
    "WHERE position = 'QB' OR position = 'WR'"
   ]
  },
  {
   "cell_type": "markdown",
   "metadata": {},
   "source": [
    "# Question 5: In SF, what pd_district am I most likely to have my car stolen, and on what day of the week is this most likely?"
   ]
  },
  {
   "cell_type": "code",
   "execution_count": 3,
   "metadata": {},
   "outputs": [
    {
     "ename": "SyntaxError",
     "evalue": "invalid syntax (<ipython-input-3-f6e309c33886>, line 1)",
     "output_type": "error",
     "traceback": [
      "\u001b[1;36m  File \u001b[1;32m\"<ipython-input-3-f6e309c33886>\"\u001b[1;36m, line \u001b[1;32m1\u001b[0m\n\u001b[1;33m    SELECT pd_district, COUNT(pd_district) AS district_count FROM tutorial.sf_crime_incidents_cleandate\u001b[0m\n\u001b[1;37m                     ^\u001b[0m\n\u001b[1;31mSyntaxError\u001b[0m\u001b[1;31m:\u001b[0m invalid syntax\n"
     ]
    }
   ],
   "source": [
    "SELECT pd_district, COUNT(pd_district) AS district_count FROM tutorial.sf_crime_incidents_cleandate\n",
    "WHERE category = 'VEHICLE THEFT'\n",
    "GROUP BY pd_district\n",
    "ORDER BY district_count DESC\n",
    "\n",
    "\n",
    "#NEXT QUERY START\n",
    "\n",
    "SELECT day_of_week, COUNT(day_of_week) AS day_count FROM tutorial.sf_crime_incidents_cleandate\n",
    "WHERE category = 'VEHICLE THEFT'\n",
    "GROUP BY day_of_week\n",
    "ORDER BY day_count DESC"
   ]
  },
  {
   "cell_type": "markdown",
   "metadata": {},
   "source": [
    "# FINAL QUESTION : For companies in SF with names that start with the letter ‘A’, what percentage of companies raise a funding total between \\$25 and \\$30 million? Create a visualization that shows this on a graph of a normal distribution."
   ]
  },
  {
   "cell_type": "code",
   "execution_count": 5,
   "metadata": {},
   "outputs": [
    {
     "ename": "SyntaxError",
     "evalue": "invalid syntax (<ipython-input-5-5b1be7fa6d37>, line 1)",
     "output_type": "error",
     "traceback": [
      "\u001b[1;36m  File \u001b[1;32m\"<ipython-input-5-5b1be7fa6d37>\"\u001b[1;36m, line \u001b[1;32m1\u001b[0m\n\u001b[1;33m    SELECT company_name, sum(raised_amount_usd) FROM tutorial.crunchbase_investments\u001b[0m\n\u001b[1;37m                      ^\u001b[0m\n\u001b[1;31mSyntaxError\u001b[0m\u001b[1;31m:\u001b[0m invalid syntax\n"
     ]
    }
   ],
   "source": [
    "SELECT company_name, sum(raised_amount_usd) FROM tutorial.crunchbase_investments\n",
    "WHERE substr(company_name, 1, 1) = 'a' AND company_city = 'San Francisco'\n",
    "GROUP BY company_name"
   ]
  },
  {
   "cell_type": "code",
   "execution_count": 11,
   "metadata": {},
   "outputs": [
    {
     "data": {
      "text/html": [
       "<div>\n",
       "<style>\n",
       "    .dataframe thead tr:only-child th {\n",
       "        text-align: right;\n",
       "    }\n",
       "\n",
       "    .dataframe thead th {\n",
       "        text-align: left;\n",
       "    }\n",
       "\n",
       "    .dataframe tbody tr th {\n",
       "        vertical-align: top;\n",
       "    }\n",
       "</style>\n",
       "<table border=\"1\" class=\"dataframe\">\n",
       "  <thead>\n",
       "    <tr style=\"text-align: right;\">\n",
       "      <th></th>\n",
       "      <th>company_name</th>\n",
       "      <th>sum</th>\n",
       "    </tr>\n",
       "  </thead>\n",
       "  <tbody>\n",
       "    <tr>\n",
       "      <th>0</th>\n",
       "      <td>adBrite</td>\n",
       "      <td>66000000.0</td>\n",
       "    </tr>\n",
       "    <tr>\n",
       "      <th>1</th>\n",
       "      <td>awe.sm</td>\n",
       "      <td>24250000.0</td>\n",
       "    </tr>\n",
       "    <tr>\n",
       "      <th>2</th>\n",
       "      <td>adRise</td>\n",
       "      <td>2000000.0</td>\n",
       "    </tr>\n",
       "    <tr>\n",
       "      <th>3</th>\n",
       "      <td>about.me</td>\n",
       "      <td>22700000.0</td>\n",
       "    </tr>\n",
       "  </tbody>\n",
       "</table>\n",
       "</div>"
      ],
      "text/plain": [
       "  company_name         sum\n",
       "0      adBrite  66000000.0\n",
       "1       awe.sm  24250000.0\n",
       "2       adRise   2000000.0\n",
       "3     about.me  22700000.0"
      ]
     },
     "execution_count": 11,
     "metadata": {},
     "output_type": "execute_result"
    }
   ],
   "source": [
    "#improting data for analysus\n",
    "funding_df= pd.read_csv('datasets/funding.csv')\n",
    "funding_df"
   ]
  },
  {
   "cell_type": "code",
   "execution_count": 12,
   "metadata": {},
   "outputs": [
    {
     "data": {
      "text/html": [
       "<div>\n",
       "<style>\n",
       "    .dataframe thead tr:only-child th {\n",
       "        text-align: right;\n",
       "    }\n",
       "\n",
       "    .dataframe thead th {\n",
       "        text-align: left;\n",
       "    }\n",
       "\n",
       "    .dataframe tbody tr th {\n",
       "        vertical-align: top;\n",
       "    }\n",
       "</style>\n",
       "<table border=\"1\" class=\"dataframe\">\n",
       "  <thead>\n",
       "    <tr style=\"text-align: right;\">\n",
       "      <th></th>\n",
       "      <th>sum</th>\n",
       "    </tr>\n",
       "  </thead>\n",
       "  <tbody>\n",
       "    <tr>\n",
       "      <th>count</th>\n",
       "      <td>4.000000e+00</td>\n",
       "    </tr>\n",
       "    <tr>\n",
       "      <th>mean</th>\n",
       "      <td>2.873750e+07</td>\n",
       "    </tr>\n",
       "    <tr>\n",
       "      <th>std</th>\n",
       "      <td>2.683267e+07</td>\n",
       "    </tr>\n",
       "    <tr>\n",
       "      <th>min</th>\n",
       "      <td>2.000000e+06</td>\n",
       "    </tr>\n",
       "    <tr>\n",
       "      <th>25%</th>\n",
       "      <td>1.752500e+07</td>\n",
       "    </tr>\n",
       "    <tr>\n",
       "      <th>50%</th>\n",
       "      <td>2.347500e+07</td>\n",
       "    </tr>\n",
       "    <tr>\n",
       "      <th>75%</th>\n",
       "      <td>3.468750e+07</td>\n",
       "    </tr>\n",
       "    <tr>\n",
       "      <th>max</th>\n",
       "      <td>6.600000e+07</td>\n",
       "    </tr>\n",
       "  </tbody>\n",
       "</table>\n",
       "</div>"
      ],
      "text/plain": [
       "                sum\n",
       "count  4.000000e+00\n",
       "mean   2.873750e+07\n",
       "std    2.683267e+07\n",
       "min    2.000000e+06\n",
       "25%    1.752500e+07\n",
       "50%    2.347500e+07\n",
       "75%    3.468750e+07\n",
       "max    6.600000e+07"
      ]
     },
     "execution_count": 12,
     "metadata": {},
     "output_type": "execute_result"
    }
   ],
   "source": [
    "#getting descriiptive stats and figures\n",
    "funding_df.describe()"
   ]
  },
  {
   "cell_type": "code",
   "execution_count": 15,
   "metadata": {
    "collapsed": true
   },
   "outputs": [],
   "source": [
    "#functions for sampling and Normal distrubution *REFERENCE NOTEBOOK #3*\n",
    "\n",
    "# Complete the two functions below. In progress to be done by class\n",
    "\n",
    "def get_sample(dataset, n=30):\n",
    "    \"\"\"Grabs a random subsample of size 'n' from dataset.\n",
    "    Outputs the mean of the subsample.\"\"\"\n",
    "    #delcare as a normal array first for ease of operations\n",
    "    sample_list = []\n",
    "    \n",
    "    for samp_data in range(n):\n",
    "        random_number = random.choice(dataset)\n",
    "        sample_list.append(random_number)\n",
    "\n",
    "    sample_mean = np.mean(sample_list)\n",
    "    return sample_mean\n",
    "    \n",
    "\n",
    "def create_sample_distribution(dataset, size=100):\n",
    "    \"\"\"Creates a dataset of subsample means.  The length of the dataset is specified by the 'size' \n",
    "    keyword argument. Should return the entire sample distribution as a numpy array.  \"\"\"\n",
    "    #for later use if needed\n",
    "    sample_set= dataset\n",
    "    #declare as a normal array first since np.array doesnt deal with append method and we may need this\n",
    "    sample_dist_array = []\n",
    "    #based on entered loop size appends that many means to the array\n",
    "    for i in range(size):\n",
    "        sample_dist_array.append(get_sample(sample_set))\n",
    "    #may be unnecesary but keeps me organized\n",
    "    sample_dist = sample_dist_array\n",
    "    return sample_dist"
   ]
  },
  {
   "cell_type": "code",
   "execution_count": 28,
   "metadata": {},
   "outputs": [
    {
     "data": {
      "text/plain": [
       "<matplotlib.axes._subplots.AxesSubplot at 0x24f448d2390>"
      ]
     },
     "execution_count": 28,
     "metadata": {},
     "output_type": "execute_result"
    },
    {
     "data": {
      "image/png": "[encoded data removed]",
      "text/plain": [
       "<matplotlib.figure.Figure at 0x24f4486fac8>"
      ]
     },
     "metadata": {},
     "output_type": "display_data"
    }
   ],
   "source": [
    "\n",
    "sns.countplot(x='sum', data=funding_df)"
   ]
  },
  {
   "cell_type": "code",
   "execution_count": 36,
   "metadata": {},
   "outputs": [
    {
     "data": {
      "text/plain": [
       "(array([  4.,   6.,  11.,  20.,  11.,  16.,  12.,  12.,   5.,   3.]),\n",
       " array([ 19698333.33333333,  21417666.66666666,  23137000.        ,\n",
       "         24856333.33333333,  26575666.66666666,  28295000.        ,\n",
       "         30014333.33333333,  31733666.66666666,  33453000.        ,\n",
       "         35172333.33333333,  36891666.66666666]),\n",
       " <a list of 10 Patch objects>)"
      ]
     },
     "execution_count": 36,
     "metadata": {},
     "output_type": "execute_result"
    },
    {
     "data": {
      "image/png": "[encoded data removed]",
      "text/plain": [
       "<matplotlib.figure.Figure at 0x24f451c2a58>"
      ]
     },
     "metadata": {},
     "output_type": "display_data"
    }
   ],
   "source": [
    "plt.hist(create_sample_distribution(funding_df[\"sum\"]))\n",
    "#unlike in seaborn, dot notiation for the  columns doesnt work so must be in [] form"
   ]
  },
  {
   "cell_type": "markdown",
   "metadata": {},
   "source": [
    "# "
   ]
  }
 ],
 "metadata": {
  "kernelspec": {
   "display_name": "Python 3",
   "language": "python",
   "name": "python3"
  },
  "language_info": {
   "codemirror_mode": {
    "name": "ipython",
    "version": 3
   },
   "file_extension": ".py",
   "mimetype": "text/x-python",
   "name": "python",
   "nbconvert_exporter": "python",
   "pygments_lexer": "ipython3",
   "version": "3.6.3"
  }
 },
 "nbformat": 4,
 "nbformat_minor": 2
}
