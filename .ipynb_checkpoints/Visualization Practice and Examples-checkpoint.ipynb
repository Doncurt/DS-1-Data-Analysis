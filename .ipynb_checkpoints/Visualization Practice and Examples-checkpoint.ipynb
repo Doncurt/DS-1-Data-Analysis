{
 "cells": [
  {
   "cell_type": "code",
   "execution_count": 3,
   "metadata": {},
   "outputs": [
    {
     "data": {
      "text/plain": [
       "<matplotlib.axes._subplots.AxesSubplot at 0x26610a72b70>"
      ]
     },
     "execution_count": 3,
     "metadata": {},
     "output_type": "execute_result"
    },
    {
     "data": {
      "image/png": "[encoded data removed]",
      "text/plain": [
       "<matplotlib.figure.Figure at 0x2661093a550>"
      ]
     },
     "metadata": {},
     "output_type": "display_data"
    }
   ],
   "source": [
    "import pandas as pd\n",
    "import numpy as np\n",
    "import matplotlib.pyplot as plt\n",
    "%matplotlib inline\n",
    "np.random.seed(1547)\n",
    "\n",
    "path = \"datasets/titanic.csv\"\n",
    "df = pd.read_csv(path)\n",
    "#pritns the entore table\n",
    "df\n",
    "#summary of numerical variables and means, averages, ect\n",
    "#df.describe()\n",
    "#frequency distribution for numerical value\n",
    "#df['Survived'].count()\n",
    "#frequency distribution for non numerical values for example, getting the names and how many times they appear\n",
    "#df['Sex'].value_counts()\n",
    "\n",
    "df['Fare'].hist(bins=10)"
   ]
  },
  {
   "cell_type": "code",
   "execution_count": 64,
   "metadata": {},
   "outputs": [
    {
     "data": {
      "text/plain": [
       "<matplotlib.axes._subplots.AxesSubplot at 0x15193f7978>"
      ]
     },
     "execution_count": 64,
     "metadata": {},
     "output_type": "execute_result"
    },
    {
     "data": {
      "image/png": "[encoded data removed]",
      "text/plain": [
       "<matplotlib.figure.Figure at 0x151914ecc0>"
      ]
     },
     "metadata": {},
     "output_type": "display_data"
    }
   ],
   "source": [
    "df.boxplot(column='Fare')"
   ]
  },
  {
   "cell_type": "code",
   "execution_count": 4,
   "metadata": {},
   "outputs": [
    {
     "name": "stdout",
     "output_type": "stream",
     "text": [
      "     Col1 Col2\n",
      "Row1    1    2\n",
      "Row2    3    4\n"
     ]
    }
   ],
   "source": [
    "#define a two d aray that has 2 columns and 2 rows\n",
    "# np array is the most commin way of representing information\n",
    "data = np.array([['','Col1','Col2'],\n",
    "                 #the first column must be left blank in order to set up an even column and row\n",
    "                ['Row1',1,2,],\n",
    "                 #row 1\n",
    "                ['Row2',3,4]])\n",
    "                #row 2\n",
    "                \n",
    "print(pd.DataFrame(data=data[1:,1:],\n",
    "                   #when printing the data fram start from the position 1, 1 and use an open ended slice to catch the rest of the data\n",
    "                  index=data[1:,0],\n",
    "                   # for the rows index start with the position at row one and use an open ended slice( basically a for-loop) to catch the rest of the row titles\n",
    "                  columns=data[0,1:]))\n",
    "                    # for the columns catch the position at column one( ignoring the placehold '') and start with position 0,1"
   ]
  },
  {
   "cell_type": "code",
   "execution_count": 8,
   "metadata": {},
   "outputs": [
    {
     "name": "stdout",
     "output_type": "stream",
     "text": [
      "   A\n",
      "0  4\n",
      "1  5\n",
      "2  6\n",
      "3  7\n"
     ]
    }
   ],
   "source": [
    "#it is possible to assign an entire data frame as an argument\n",
    "my_df = pd.DataFrame(data=[4,5,6,7], index=range(0,4), columns=['A'])\n",
    "# the data in the data frame is defined as the array [4,5,6,7]. the index of the rows( aka the title) will be numbers 0-4,\n",
    "# and the columns are defined as soley as 'A'\n",
    "print(pd.DataFrame(my_df))"
   ]
  },
  {
   "cell_type": "code",
   "execution_count": 7,
   "metadata": {},
   "outputs": [
    {
     "name": "stdout",
     "output_type": "stream",
     "text": [
      "                         0\n",
      "Belgium           Brussels\n",
      "India            New Delhi\n",
      "United Kingdom      London\n",
      "United States   Washington\n"
     ]
    }
   ],
   "source": [
    "# Take a Series as input to your DataFrame\n",
    "my_series = pd.Series({\"Belgium\":\"Brussels\", \"India\":\"New Delhi\", \"United Kingdom\":\"London\", \"United States\":\"Washington\"})\n",
    "# a series works in the same way as a json object\n",
    "print(pd.DataFrame(my_series))"
   ]
  },
  {
   "cell_type": "code",
   "execution_count": 10,
   "metadata": {},
   "outputs": [
    {
     "name": "stdout",
     "output_type": "stream",
     "text": [
      "(2, 3)\n",
      "2\n"
     ]
    }
   ],
   "source": [
    "df = pd.DataFrame(np.array([[1, 2, 3], [4, 5, 6]]))\n",
    "\n",
    "# the shape property tells you first how many sub arrays are present, second how many items are in the arrary in question\n",
    "print(df.shape)\n",
    "#On the other hand, the len() function, in combination with the index property, will only give you information on the height of your DataFrame\n",
    "print(len(df.index))"
   ]
  },
  {
   "cell_type": "code",
   "execution_count": 15,
   "metadata": {},
   "outputs": [
    {
     "name": "stdout",
     "output_type": "stream",
     "text": [
      "4\n",
      "4\n",
      "4\n",
      "4\n",
      "4\n"
     ]
    }
   ],
   "source": [
    "#                                   ILOC TUTORIAL AND HOW IT WORKS\n",
    "\n",
    "\n",
    "\n",
    "\n",
    "\n",
    "#asssume the data fram looks like the following\n",
    "#    A  B  C\n",
    "# 0  1  2  3\n",
    "# 1  4  5  6\n",
    "# 2  7  8  9\n",
    " # will build later for hw, is actually the data frame from my_df\n",
    "# Using `iloc[]`\n",
    "print(my_df.iloc[0][0]) # this accesses the elements( data specifically) at the first starting position which owuld be in this case 1\n",
    "\n",
    "# Using `loc[]`\n",
    "print(my_df.loc[0]['A'])  #the dame as the last but it tries to find the\n",
    "\n",
    "# Using `at[]`\n",
    "print(my_df.at[0,'A'])\n",
    "\n",
    "# Using `iat[]`\n",
    "print(my_df.iat[0,0])\n",
    "\n",
    "# Using `get_value(index, column)`\n",
    "print(my_df.get_value(0, 'A'))"
   ]
  },
  {
   "cell_type": "code",
   "execution_count": 18,
   "metadata": {},
   "outputs": [
    {
     "name": "stdout",
     "output_type": "stream",
     "text": [
      "A    4\n",
      "Name: 0, dtype: int64\n",
      "0    4\n",
      "1    5\n",
      "2    6\n",
      "3    7\n",
      "Name: A, dtype: int64\n"
     ]
    }
   ],
   "source": [
    "# Use `iloc[]` to select row `0`  # it also selcts the columns but more in an iloc vs loc tutorial, alter\n",
    "print(my_df.iloc[0])\n",
    "\n",
    "# Use `loc[]` to select column `'A'` # will give you all of the information from all rows, untill and including 'A'\n",
    "print(my_df.loc[:,'A'])"
   ]
  },
  {
   "cell_type": "code",
   "execution_count": 23,
   "metadata": {},
   "outputs": [
    {
     "name": "stdout",
     "output_type": "stream",
     "text": [
      "   0  1  2\n",
      "0  1  2  3\n",
      "1  4  5  6\n"
     ]
    },
    {
     "data": {
      "text/html": [
       "<div>\n",
       "<style>\n",
       "    .dataframe thead tr:only-child th {\n",
       "        text-align: right;\n",
       "    }\n",
       "\n",
       "    .dataframe thead th {\n",
       "        text-align: left;\n",
       "    }\n",
       "\n",
       "    .dataframe tbody tr th {\n",
       "        vertical-align: top;\n",
       "    }\n",
       "</style>\n",
       "<table border=\"1\" class=\"dataframe\">\n",
       "  <thead>\n",
       "    <tr style=\"text-align: right;\">\n",
       "      <th></th>\n",
       "      <th>0</th>\n",
       "      <th>2</th>\n",
       "    </tr>\n",
       "    <tr>\n",
       "      <th>1</th>\n",
       "      <th></th>\n",
       "      <th></th>\n",
       "    </tr>\n",
       "  </thead>\n",
       "  <tbody>\n",
       "    <tr>\n",
       "      <th>2</th>\n",
       "      <td>1</td>\n",
       "      <td>3</td>\n",
       "    </tr>\n",
       "    <tr>\n",
       "      <th>5</th>\n",
       "      <td>4</td>\n",
       "      <td>6</td>\n",
       "    </tr>\n",
       "  </tbody>\n",
       "</table>\n",
       "</div>"
      ],
      "text/plain": [
       "   0  2\n",
       "1      \n",
       "2  1  3\n",
       "5  4  6"
      ]
     },
     "execution_count": 23,
     "metadata": {},
     "output_type": "execute_result"
    }
   ],
   "source": [
    "#                                       Adding an Index to a DataFrame\n",
    "\n",
    "#When you create a DataFrame, you have the option to add input to the ‘index’ argument to make sure that you have the index that you desire. When you don’t specify this, your DataFrame will have, by default, a numerically valued index that starts with 0 and continues until the last row of your DataFram\n",
    "#set_index(var) can do this for you easily\n",
    "# Print out your DataFrame `df` to check it out\n",
    "print(df)\n",
    "\n",
    "# Set 'C' as the index of your DataFrame\n",
    "df.set_index(1)\n"
   ]
  }
 ],
 "metadata": {
  "kernelspec": {
   "display_name": "Python 3",
   "language": "python",
   "name": "python3"
  },
  "language_info": {
   "codemirror_mode": {
    "name": "ipython",
    "version": 3
   },
   "file_extension": ".py",
   "mimetype": "text/x-python",
   "name": "python",
   "nbconvert_exporter": "python",
   "pygments_lexer": "ipython3",
   "version": "3.6.3"
  }
 },
 "nbformat": 4,
 "nbformat_minor": 2
}
