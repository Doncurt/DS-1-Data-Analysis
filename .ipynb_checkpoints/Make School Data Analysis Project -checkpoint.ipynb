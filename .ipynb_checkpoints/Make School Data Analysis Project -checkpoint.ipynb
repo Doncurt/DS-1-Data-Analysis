{
 "cells": [
  {
   "cell_type": "code",
   "execution_count": 7,
   "metadata": {},
   "outputs": [
    {
     "name": "stdout",
     "output_type": "stream",
     "text": [
      "\u001b[34m2016\u001b[m\u001b[m/ \u001b[34m2017\u001b[m\u001b[m/\n",
      "[Errno 2] No such file or directory: 'SA Feedback Surveys_FINAL'\n",
      "/Users/donovanadams/Desktop/GitHub/DS-1-Data-Analysis/datasets/SA Feedback Surveys_FINAL\n"
     ]
    }
   ],
   "source": [
    "import pandas as pd\n",
    "import numpy as np\n",
    "import matplotlib.pyplot as plt\n",
    "import csv\n",
    "import glob\n",
    "import os\n",
    "import sys\n",
    "%matplotlib inline\n",
    "np.random.seed(1547)\n",
    "\n",
    "\n",
    "#import blob to make reading of files in easier\n",
    "%ls\n",
    "%cd SA Feedback Surveys_FINAL"
   ]
  },
  {
   "cell_type": "code",
   "execution_count": 17,
   "metadata": {},
   "outputs": [
    {
     "name": "stdout",
     "output_type": "stream",
     "text": [
      "2017/Student Feedback Surveys-Superview.csv\n"
     ]
    }
   ],
   "source": [
    "\n",
    "\n",
    "for name in glob.glob('2017/Student Feedback Surveys-Superview.csv'):\n",
    "    print (name)"
   ]
  },
  {
   "cell_type": "code",
   "execution_count": 19,
   "metadata": {},
   "outputs": [
    {
     "name": "stdout",
     "output_type": "stream",
     "text": [
      "2016/Anon Week 1 Feedback - LA.csv\n",
      "2016/Anon Week 1 Feedback - NY.csv\n",
      "2016/Anon Week 1 Feedback - SF.csv\n",
      "2016/Anon Week 1 Feedback - Singapore.csv\n",
      "2016/Anon Week 1 Feedback - SV.csv\n",
      "2016/Anon Week 2 Feedback - LA.csv\n",
      "2016/Anon Week 2 Feedback - NY.csv\n",
      "2016/Anon Week 2 Feedback - SF.csv\n",
      "2016/Anon Week 2 Feedback - SG.csv\n",
      "2016/Anon Week 2 Feedback - SV.csv\n",
      "2016/Anon Week 3 Feedback - LA.csv\n",
      "2016/Anon Week 3 Feedback - NY.csv\n",
      "2016/Anon Week 3 Feedback - SF.csv\n",
      "2016/Anon Week 3 Feedback - SG.csv\n",
      "2016/Anon Week 3 Feedback - SV.csv\n",
      "2016/Anon Week 4 Feedback - LA.csv\n",
      "2016/Anon Week 4 Feedback - NY.csv\n",
      "2016/Anon Week 4 Feedback - SF.csv\n",
      "2016/Anon Week 4 Feedback - SG.csv\n",
      "2016/Anon Week 4 Feedback - SV.csv\n",
      "2016/Anon Week 5 Feedback - HK.csv\n",
      "2016/Anon Week 5 Feedback - LA.csv\n",
      "2016/Anon Week 5 Feedback - NY.csv\n",
      "2016/Anon Week 5 Feedback - SF.csv\n",
      "2016/Anon Week 5 Feedback - SG.csv\n",
      "2016/Anon Week 5 Feedback - SV.csv\n",
      "2016/Anon Week 6 Feedback - HK.csv\n",
      "2016/Anon Week 6 Feedback - LA.csv\n",
      "2016/Anon Week 6 Feedback - NY.csv\n",
      "2016/Anon Week 6 Feedback - SF.csv\n",
      "2016/Anon Week 6 Feedback - SG.csv\n",
      "2016/Anon Week 6 Feedback - SV.csv\n",
      "2016/Anon Week 6 Feedback - Taipei.csv\n",
      "2016/Anon Week 6 Feedback - Tokyo.csv\n",
      "2016/Anon Week 7 Feedback - LA.csv\n",
      "2016/Anon Week 7 Feedback - NY.csv\n",
      "2016/Anon Week 7 Feedback - SF.csv\n",
      "2016/Anon Week 7 Feedback - SV.csv\n",
      "2016/Anon Week 7 Feedback - Taipei.csv\n",
      "2016/Week 8 Feedback (2016, incomplete) - results.csv\n"
     ]
    }
   ],
   "source": [
    "for name in glob.glob('2016/*'):\n",
    "    print (name)"
   ]
  },
  {
   "cell_type": "code",
   "execution_count": 25,
   "metadata": {},
   "outputs": [
    {
     "name": "stdout",
     "output_type": "stream",
     "text": [
      "['2017/Student Feedback Surveys-Superview.csv']\n"
     ]
    }
   ],
   "source": [
    "print(glob.glob('2017/Student Feedback Surveys-Superview.csv'))\n",
    "    "
   ]
  },
  {
   "cell_type": "code",
   "execution_count": null,
   "metadata": {
    "collapsed": true
   },
   "outputs": [],
   "source": [
    "import csv\n",
    "import glob\n",
    "import os\n",
    "import sys\n",
    "\n"
   ]
  }
 ],
 "metadata": {
  "kernelspec": {
   "display_name": "Python 3",
   "language": "python",
   "name": "python3"
  },
  "language_info": {
   "codemirror_mode": {
    "name": "ipython",
    "version": 3
   },
   "file_extension": ".py",
   "mimetype": "text/x-python",
   "name": "python",
   "nbconvert_exporter": "python",
   "pygments_lexer": "ipython3",
   "version": "3.6.3"
  }
 },
 "nbformat": 4,
 "nbformat_minor": 2
}
