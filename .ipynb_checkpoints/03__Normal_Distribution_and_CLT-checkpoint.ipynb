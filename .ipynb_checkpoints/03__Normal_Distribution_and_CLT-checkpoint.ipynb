{
 "cells": [
  {
   "cell_type": "markdown",
   "metadata": {},
   "source": [
    "<center><img src='img/ms_logo.jpeg' height=40% width=40%></center>\n",
    "\n",
    "<center><h1>Normal Distribution & Central Limit Theorem</h1></center>\n",
    "\n",
    "If the class lecture was your first exposure to the Central Limit Theorem (CLT), it can seem a bit confusing.  The goal of this notebook is to demystify the CLT by having you write an algorithm that actually uses sampling to approximate a normal distribution from a non-normally distributed data set.  \n",
    "\n",
    "In this notebook you will:\n",
    "\n",
    "1. Run code to generate a non-normal data set.  \n",
    "1. Create an function to randomly sample subsets of data.\n",
    "1. Create a data set of the means of each sample.\n",
    "1. Visualize the distribution of the means of each sample.  \n",
    "\n",
    "\n",
    "<center><h3>Creating our Dummy Data</h3></center>\n",
    "\n",
    "We're going to use numpy to create a non-normal distribution.  The easiest way to do this is just to create a uniform distribution!  \n",
    "\n",
    "**TASKS:** Run the code below to import numpy and set a random seed, and then use numpy to create a uniform distribution with integer values between 0 and 100.\n",
    "\n",
    "(Hint: For integer values, random.uniform is not our best choice since it generates floats.  Which numpy method should you use to generate a uniform distribution of random integers?)"
   ]
  },
  {
   "cell_type": "code",
   "execution_count": 15,
   "metadata": {
    "collapsed": true
   },
   "outputs": [],
   "source": [
    "# Run this cell to import the packages you'll need and set a seed\n",
    "import numpy as np\n",
    "import pandas as pd\n",
    "from numpy import random\n",
    "import matplotlib.pyplot as plt\n",
    "%matplotlib inline\n",
    "\n",
    "# Please dont change this--otherwise, you'll get different results from everyone else!\n",
    "np.random.seed(1547)"
   ]
  },
  {
   "cell_type": "code",
   "execution_count": 9,
   "metadata": {},
   "outputs": [
    {
     "data": {
      "text/html": [
       "<div>\n",
       "<style>\n",
       "    .dataframe thead tr:only-child th {\n",
       "        text-align: right;\n",
       "    }\n",
       "\n",
       "    .dataframe thead th {\n",
       "        text-align: left;\n",
       "    }\n",
       "\n",
       "    .dataframe tbody tr th {\n",
       "        vertical-align: top;\n",
       "    }\n",
       "</style>\n",
       "<table border=\"1\" class=\"dataframe\">\n",
       "  <thead>\n",
       "    <tr style=\"text-align: right;\">\n",
       "      <th></th>\n",
       "      <th>0</th>\n",
       "    </tr>\n",
       "  </thead>\n",
       "  <tbody>\n",
       "    <tr>\n",
       "      <th>count</th>\n",
       "      <td>10000.0000</td>\n",
       "    </tr>\n",
       "    <tr>\n",
       "      <th>mean</th>\n",
       "      <td>49.4660</td>\n",
       "    </tr>\n",
       "    <tr>\n",
       "      <th>std</th>\n",
       "      <td>28.7219</td>\n",
       "    </tr>\n",
       "    <tr>\n",
       "      <th>min</th>\n",
       "      <td>0.0000</td>\n",
       "    </tr>\n",
       "    <tr>\n",
       "      <th>25%</th>\n",
       "      <td>25.0000</td>\n",
       "    </tr>\n",
       "    <tr>\n",
       "      <th>50%</th>\n",
       "      <td>49.0000</td>\n",
       "    </tr>\n",
       "    <tr>\n",
       "      <th>75%</th>\n",
       "      <td>74.0000</td>\n",
       "    </tr>\n",
       "    <tr>\n",
       "      <th>max</th>\n",
       "      <td>99.0000</td>\n",
       "    </tr>\n",
       "  </tbody>\n",
       "</table>\n",
       "</div>"
      ],
      "text/plain": [
       "                0\n",
       "count  10000.0000\n",
       "mean      49.4660\n",
       "std       28.7219\n",
       "min        0.0000\n",
       "25%       25.0000\n",
       "50%       49.0000\n",
       "75%       74.0000\n",
       "max       99.0000"
      ]
     },
     "execution_count": 9,
     "metadata": {},
     "output_type": "execute_result"
    }
   ],
   "source": [
    "# Create a uniform distribution of 10000 integers between 0 and 100.\n",
    "non_normal_data = np.random.randint(low=0, high=100, size=10000)\n",
    "\n",
    "non_normal_data\n",
    "df= pd.DataFrame(non_normal_data)\n",
    "df.describe()\n",
    "# Use plt.hist() to visual our the distribution of our dummy data set\n"
   ]
  },
  {
   "cell_type": "code",
   "execution_count": 8,
   "metadata": {},
   "outputs": [
    {
     "data": {
      "text/plain": [
       "(array([ 1027.,  1014.,   996.,   995.,  1017.,   999.,   993.,  1028.,\n",
       "          999.,   932.]),\n",
       " array([  0. ,   9.9,  19.8,  29.7,  39.6,  49.5,  59.4,  69.3,  79.2,\n",
       "         89.1,  99. ]),\n",
       " <a list of 10 Patch objects>)"
      ]
     },
     "execution_count": 8,
     "metadata": {},
     "output_type": "execute_result"
    },
    {
     "data": {
      "image/png": "[encoded data removed]",
      "text/plain": [
       "<matplotlib.figure.Figure at 0x1b4e4718e10>"
      ]
     },
     "metadata": {},
     "output_type": "display_data"
    }
   ],
   "source": [
    "plt.hist(non_normal_data)"
   ]
  },
  {
   "cell_type": "code",
   "execution_count": 21,
   "metadata": {},
   "outputs": [
    {
     "data": {
      "text/plain": [
       "array([1, 4, 9, 0, 9, 6, 4, 9, 4, 1, 7, 0, 3, 0, 0, 6, 8, 4, 0, 0])"
      ]
     },
     "execution_count": 21,
     "metadata": {},
     "output_type": "execute_result"
    }
   ],
   "source": [
    "# Better example to show work on the priciple\n",
    "x= random.randint(10, size=20)\n",
    "x\n"
   ]
  },
  {
   "cell_type": "code",
   "execution_count": 28,
   "metadata": {},
   "outputs": [
    {
     "data": {
      "text/plain": [
       "array([0, 0, 0, 0, 0, 0, 1, 1, 3, 4, 4, 4, 4, 6, 6, 7, 8, 9, 9, 9])"
      ]
     },
     "execution_count": 28,
     "metadata": {},
     "output_type": "execute_result"
    }
   ],
   "source": [
    "x.sort()\n",
    "x"
   ]
  },
  {
   "cell_type": "code",
   "execution_count": 30,
   "metadata": {},
   "outputs": [
    {
     "data": {
      "text/plain": [
       "(array([ 6.,  2.,  0.,  1.,  4.,  0.,  2.,  1.,  1.,  3.]),\n",
       " array([ 0. ,  0.9,  1.8,  2.7,  3.6,  4.5,  5.4,  6.3,  7.2,  8.1,  9. ]),\n",
       " <a list of 10 Patch objects>)"
      ]
     },
     "execution_count": 30,
     "metadata": {},
     "output_type": "execute_result"
    },
    {
     "data": {
      "image/png": "[encoded data removed]",
      "text/plain": [
       "<matplotlib.figure.Figure at 0x1b4e4e71128>"
      ]
     },
     "metadata": {},
     "output_type": "display_data"
    }
   ],
   "source": [
    "plt.hist(x)"
   ]
  },
  {
   "cell_type": "code",
   "execution_count": 35,
   "metadata": {},
   "outputs": [
    {
     "data": {
      "text/plain": [
       "Text(0,0.5,'Value')"
      ]
     },
     "execution_count": 35,
     "metadata": {},
     "output_type": "execute_result"
    },
    {
     "data": {
      "image/png": "[encoded data removed]",
      "text/plain": [
       "<matplotlib.figure.Figure at 0x1b4e6008ef0>"
      ]
     },
     "metadata": {},
     "output_type": "display_data"
    }
   ],
   "source": [
    "plt.hist(x)\n",
    "plt.title('Frequency Distribution')\n",
    "plt.xlabel('Integer')\n",
    "plt.ylabel('Value')"
   ]
  },
  {
   "cell_type": "code",
   "execution_count": 76,
   "metadata": {},
   "outputs": [
    {
     "data": {
      "text/plain": [
       "array([  9.93705885e+00,   9.41304262e+00,   5.91125418e+00,\n",
       "         1.17761094e+01,   1.07593330e+01,   7.75380686e+00,\n",
       "        -1.41318795e+01,  -5.68473412e+00,   4.34836038e-02,\n",
       "        -1.69738707e+01,  -2.97358015e+00,  -1.96539623e+00,\n",
       "         1.30461662e+01,   3.69498264e+00,   3.86894082e+00,\n",
       "        -7.14495957e+00,   3.28701351e+00,   4.89010635e+00,\n",
       "         1.07632740e+01,   1.80056964e+01,  -7.13220574e+00,\n",
       "        -6.60689020e+00,  -8.18806150e+00,  -1.16975470e+01,\n",
       "        -2.31250356e+01,   4.18094756e+00,  -4.88530025e+00,\n",
       "         1.09135367e+01,  -2.08253983e+01,  -8.28591371e-01,\n",
       "         2.70346191e+01,  -8.23951555e-01,  -2.69732539e+00,\n",
       "         1.90577551e+01,  -2.34028047e+01,   8.46055760e-01,\n",
       "        -1.74786796e+00,  -1.64612460e+00,   1.43201258e+01,\n",
       "         3.29798259e+00,   4.94475064e+00,  -6.37755645e+00,\n",
       "        -2.26922662e+00,   4.19983226e+00,   3.02174531e+01,\n",
       "         2.47832878e+00,  -1.07795788e+01,  -3.16894425e+00,\n",
       "         4.24686738e-01,  -1.00881317e+01,   1.07146688e+01,\n",
       "        -1.55300472e+01,   1.85785320e+00,   1.06465515e+01,\n",
       "        -4.99567608e+00,   1.05161563e+01,   4.23555874e+00,\n",
       "         4.74281913e+00,  -1.23412910e+01,  -7.60908813e+00,\n",
       "         1.10362653e+00,  -1.92012270e+01,  -3.58241083e+00,\n",
       "        -1.58937061e+01,   3.20371648e+00,   7.43558216e+00,\n",
       "         2.87917773e+00,  -1.55337364e+00,  -1.54998107e+00,\n",
       "        -1.50740521e+01,  -6.69737683e+00,   1.21605359e+01,\n",
       "         8.87023810e+00,  -5.84081071e+00,  -5.47925030e+00,\n",
       "         1.06228055e+01,   2.83612397e+00,   2.74504537e+01,\n",
       "         1.53914167e+01,   3.68933094e+00,  -2.55178629e+00,\n",
       "         2.14657235e+01,   3.11540527e+00,  -1.01022982e+01,\n",
       "         9.01881050e+00,  -1.06237789e+01,   1.48557300e+01,\n",
       "        -6.78060020e+00,   1.00201317e+01,  -1.01435332e+01,\n",
       "         5.96330616e-01,   1.52957526e+01,  -6.72856184e+00,\n",
       "         1.52108131e+01,   4.90014168e+00,   1.01365489e+01,\n",
       "         5.85057413e+00,  -3.22413048e+00,   1.65221867e+00,\n",
       "        -1.39547003e+01,   4.49327121e+00,  -5.11752669e+00,\n",
       "         7.97157982e-01,   3.26874337e+00,  -3.34816333e+00,\n",
       "        -4.48603937e+00,   9.63889066e-01,   6.64732671e+00,\n",
       "        -2.47026403e+01,   5.76149935e-01,  -6.78157071e-01,\n",
       "        -2.36295937e+01,   1.70771208e+01,  -4.53379802e+00,\n",
       "         1.83439680e+01,  -3.07698055e+01,  -1.76906082e+01,\n",
       "         5.86046208e+00,  -1.12288329e+01,   5.80452078e+00,\n",
       "        -9.45919945e+00,  -5.86281672e+00,  -5.96513559e+00,\n",
       "        -9.83007217e+00,  -1.51757186e+00,   2.00588009e+01,\n",
       "        -2.65177719e+00,   8.33684984e+00,  -1.15759876e+01,\n",
       "        -2.62860962e+00,   2.34239361e+01,   4.24549576e+00,\n",
       "        -5.50865722e+00,  -8.26387985e+00,  -1.66063416e+01,\n",
       "        -5.06216917e+00,  -2.39347052e+00,   1.57306891e+00,\n",
       "        -4.94371716e+00,  -1.16572602e+01,   5.76306877e+00,\n",
       "        -1.64057021e+01,   4.93282093e+00,   2.02837624e+00,\n",
       "         7.04084417e+00,   1.26369056e+01,  -1.79409270e+01,\n",
       "         1.22598549e+00,  -1.62557283e+00,  -5.14702561e+00,\n",
       "         2.84828439e-01,  -1.13800547e+01,   4.97247452e-01,\n",
       "         7.96232573e+00,  -8.96866664e+00,   1.14028656e+01,\n",
       "         7.78612530e+00,  -2.16748000e+00,  -2.96355746e+00,\n",
       "        -8.51001704e+00,  -5.90137153e-01,  -4.21296319e+00,\n",
       "         1.05052257e+01,   3.24101952e-01,  -2.15343619e+01,\n",
       "         1.35442735e+00,   1.83076481e+01,   1.21658828e+01,\n",
       "         6.03385171e+00,  -1.28283706e+01,   7.21767977e+00,\n",
       "         5.51639169e+00,   6.89803059e+00,  -3.14411900e+00,\n",
       "         4.00050042e+00,   1.88332095e+00,  -1.24911529e+01,\n",
       "         6.58483623e+00,  -1.38829385e+00,  -8.72990362e+00,\n",
       "         6.37932456e+00,   1.48659674e+01,   2.50598253e+00,\n",
       "         2.90571910e+00,   1.34327373e+01,  -8.69277306e+00,\n",
       "         7.35880054e+00,   1.25703573e+01,  -5.79755772e+00,\n",
       "         2.51988164e+00,  -4.37916445e-03,  -3.35360181e+00,\n",
       "        -5.72156691e+00,  -2.97380640e+00,   6.11252483e+00,\n",
       "        -1.11231080e+01,  -2.64840915e+01,   3.23506502e+00,\n",
       "         1.72931392e+01,   7.78001438e-03,  -4.98350466e-01,\n",
       "         8.88096337e+00,   1.17395366e+01,  -7.23280221e+00,\n",
       "         6.63300490e+00,   2.43971739e-02,   4.62634839e+00,\n",
       "        -1.63720950e+01,   8.46846951e+00,  -1.13612377e+00,\n",
       "         9.21956775e+00,  -4.61979666e+00,  -9.27716469e+00,\n",
       "         3.73654550e+00,  -9.49670345e+00,  -2.32119230e+00,\n",
       "         1.12004057e+00,   3.85478128e+00,   6.11919231e+00,\n",
       "         5.04270488e+00,   8.46280618e+00,  -4.58633761e+00,\n",
       "        -1.10152747e+01,   1.77958617e+01,   1.39553814e+01,\n",
       "        -4.90057924e+00,   1.17013413e+01,  -1.52322837e+01,\n",
       "        -1.31938830e+01,  -8.14441885e+00,   3.07553227e+00,\n",
       "         1.48860941e+01,  -5.46651105e+00,  -9.98097506e+00,\n",
       "         6.44641340e+00,   6.30359672e+00,   2.14331852e+01,\n",
       "         7.55040396e+00,  -1.08812559e+01,   2.38744458e-01,\n",
       "         6.28796150e+00,   4.87514498e+00,  -5.93231397e-01,\n",
       "         8.39806750e+00,   1.86814643e+00,  -3.98978832e+00,\n",
       "        -2.66705725e+01,   1.71996975e+01,   2.35565459e+00,\n",
       "        -1.08857953e+01,  -1.91095648e+00,  -9.74649483e-01,\n",
       "         7.77514044e+00,   1.06407605e+01,   2.11537522e+00,\n",
       "        -1.54267610e+01,   1.03388721e+00,   7.05626063e+00,\n",
       "         1.29788044e+00,   5.61414762e-01,   1.09726978e+01,\n",
       "         1.10826857e+01,  -1.21137991e+00,   9.43279806e+00,\n",
       "        -3.75331808e+00,   1.81885117e+01,  -7.78414124e+00,\n",
       "         1.36389609e+00,  -9.14615178e-01,   2.88219109e+00,\n",
       "        -6.10317440e+00,   7.37521826e+00,  -1.47885401e+00,\n",
       "         5.84292871e+00,   5.32661923e+00,  -1.30436573e+00,\n",
       "         6.44713956e+00,   1.04234783e+01,   1.89917088e+01,\n",
       "         1.83749749e+00,  -2.64287799e+01,  -2.62896015e+00,\n",
       "         1.72904665e+01,   3.62837383e+00,   8.24558469e+00,\n",
       "        -4.83151175e+00,   1.00321186e+01,   2.85191268e+00,\n",
       "        -2.13607518e+00,   2.75266772e-01,   8.39711740e-01,\n",
       "        -1.91683554e+01,   1.78752507e+01,  -1.06519901e+01,\n",
       "         1.92314120e+01,   6.69965062e+00,   1.40530641e+01,\n",
       "         1.52323164e-01,  -1.34537064e+01,  -2.76025442e+00,\n",
       "        -7.55898348e+00,  -2.08932717e+00,   1.15067013e+01,\n",
       "         1.20448008e+01,   1.44323544e+00,  -2.80031586e+00,\n",
       "        -4.57436676e+00,  -8.59926793e+00,   6.14267257e+00,\n",
       "         9.77502591e-01,  -2.14386097e+01,  -9.41451710e+00,\n",
       "         1.49280961e+01,   1.18938411e+01,   1.13197518e+01,\n",
       "        -1.16567920e+01,   2.13055760e+01,  -1.94567793e+00,\n",
       "        -2.47203022e+00,  -7.18011368e+00,   1.14982170e+01,\n",
       "         4.97318244e+00,   2.18576810e+00,  -4.89877104e+00,\n",
       "        -2.11791275e+00,   1.48134960e+01,   2.49302782e+00,\n",
       "        -1.33355042e+01,   2.24884379e+01,   8.61735210e+00,\n",
       "         9.38494924e+00,  -2.23622568e+00,   2.05616370e+01,\n",
       "        -4.77898826e+00,  -1.28036353e+00,  -2.74183268e+00,\n",
       "        -5.24723452e+00,   1.48551296e+00,   4.78591540e+00,\n",
       "         9.20133764e+00,   8.23380676e+00,   5.66063932e+00,\n",
       "        -8.96480097e+00,  -1.54756854e+01,   7.71569532e+00,\n",
       "        -8.00283251e+00,   5.58462875e+00,   1.42456730e+01,\n",
       "         2.24644247e+01,  -4.61878899e+00,  -6.95711521e+00,\n",
       "         2.05722138e+01,   5.23093081e+00,   1.24349596e+01,\n",
       "         2.29754030e+00,  -4.29731550e+00,  -2.07911195e+01,\n",
       "        -7.00817866e+00,  -9.06578732e+00,   8.08854974e+00,\n",
       "        -1.26688497e+01,  -6.00796085e+00,  -1.23202931e+01,\n",
       "        -6.80194296e+00,  -1.28334969e+01,  -3.14350271e-01,\n",
       "         4.79996089e+00,  -5.78946161e+00,   9.60487901e-02,\n",
       "         4.44540049e+00,  -2.41203771e+01,   2.65460120e+00,\n",
       "         1.20191215e+00,  -8.82680418e+00,  -1.39340137e+01,\n",
       "         8.64146447e+00,   4.92735849e+00,   7.89545658e-01,\n",
       "        -4.88581662e+00,   3.21786691e+00,  -1.56402355e+01,\n",
       "        -1.44638699e+00,  -4.89547596e+00,  -6.07993835e+00,\n",
       "         4.09964291e+00,  -1.51830783e+01,   4.16094682e+00,\n",
       "         9.24979047e+00,  -5.02500080e+00,   1.75584211e+00,\n",
       "        -8.82135090e+00,  -1.26924189e+01,   6.42840101e+00,\n",
       "        -5.11535102e-01,   6.80758533e+00,   1.33082999e+00,\n",
       "        -1.57683201e+00,  -8.02997315e+00,   2.00769718e+00,\n",
       "         2.01868063e+00,   3.85088161e+00,   8.55967721e+00,\n",
       "         3.58154384e+00,   1.56641515e+01,   5.13216534e-01,\n",
       "        -2.19025841e+01,  -2.25226756e+01,   2.62464268e+00,\n",
       "        -5.37303733e+00,   2.43736760e+00,   2.14753766e+01,\n",
       "         5.61895435e-01,  -1.08748523e+01,  -2.73370422e+00,\n",
       "        -2.49396667e+01,   3.31678608e-01,   1.83127831e+01,\n",
       "         6.24516231e+00,  -5.71161260e+00,   7.39710121e+00,\n",
       "         1.08286471e+00,   5.76441926e-01,   7.12729259e+00,\n",
       "         2.74958734e+00,   1.38549444e+01,  -1.51591707e+01,\n",
       "        -7.91508886e+00,   5.41668299e+00,   9.17889007e-01,\n",
       "         5.49698398e+00,  -1.44957068e+01,  -2.41739614e+00,\n",
       "         8.77111138e+00,   1.07304076e+01,   4.65540757e-01,\n",
       "         5.20232271e+00,   1.19840306e+01,  -1.12455805e+01,\n",
       "        -1.08442456e+01,  -1.72702669e+01,   5.54778774e+00,\n",
       "        -3.73250428e+00,   1.06586357e+01,   3.22594913e+01,\n",
       "        -1.45467985e+01,  -9.83280775e+00,   5.61577439e+00,\n",
       "         4.18045396e-01,  -1.95251849e+01,   8.57996405e+00,\n",
       "         7.25001548e+00,  -4.79655174e+00,  -1.09639969e+01,\n",
       "        -3.07735907e+00,   5.37321014e+00,   2.44445649e+01,\n",
       "         1.67268651e+01,  -5.57263988e+00,   2.07467939e+01,\n",
       "        -1.54003841e+01,   1.33801256e+00,   6.48468441e+00,\n",
       "         2.65212849e-01,   1.57746405e+01,   8.73634658e+00,\n",
       "         9.68111872e+00,  -1.24898809e+00,   1.12721637e+01,\n",
       "        -3.70477230e+00,   8.89755566e+00,   1.71848086e+00,\n",
       "        -1.64961095e+01,   1.71931020e+00,   1.09962995e+01,\n",
       "         3.92276506e-01,   1.60470824e+01,  -9.76694732e+00,\n",
       "         6.77922599e+00,   9.10703329e+00,   6.96286214e+00,\n",
       "         2.20648309e+00,  -1.38928547e+01,   8.11701641e-01,\n",
       "        -2.23821476e+01,   1.37097721e+01,   3.08387813e+00,\n",
       "         1.17993729e+01,   3.65968382e-01,   3.37019573e+00,\n",
       "         6.17680353e+00,   9.17345326e+00,  -1.01747079e+01,\n",
       "         2.40379751e+00,  -1.25823014e+01,   2.17531681e+01,\n",
       "        -1.03330564e+01,   7.25136049e+00,   1.44074383e+01,\n",
       "        -6.57903033e+00,   6.08408247e+00,   5.39656090e+00,\n",
       "         1.29792368e+01,   8.55836353e-01,   3.42416643e+00,\n",
       "        -1.30618554e+01,   2.88534366e+00,  -6.02656514e+00,\n",
       "         4.06352076e+00,  -9.94912332e-01,  -8.14162006e+00,\n",
       "         1.55467464e+01,   2.48026571e-01,   1.16993538e+01,\n",
       "        -4.06455620e+00,  -1.65956339e+01,   3.75978746e+00,\n",
       "         3.48932415e+00,  -1.23629786e+01,   6.67337649e+00,\n",
       "         2.31981070e+00,   7.01191471e-01,   1.14850481e+00,\n",
       "        -1.14762275e+01,  -5.52436013e+00,   8.79608360e+00,\n",
       "         1.65920726e+01,   1.41915099e+00,   2.02781721e+01,\n",
       "        -7.31693416e+00,  -4.13530814e+00,   1.22260079e+01,\n",
       "        -5.62226813e-01,  -9.21311524e+00,   1.71211247e+01,\n",
       "        -9.16184129e-01,  -7.42005036e+00,  -1.71624333e+00,\n",
       "        -3.96386173e+00,   5.06856183e+00,   2.03939497e+01,\n",
       "        -5.79862654e+00,  -5.91630561e+00,   4.13001951e+00,\n",
       "         1.14423529e+01,   7.49203851e-01,  -1.30008558e+01,\n",
       "         4.16266061e+00,  -1.21330073e+01,  -2.67644911e+00,\n",
       "         2.00351091e+00,  -6.32195102e+00,   9.42629588e-01,\n",
       "         1.18790751e+01,  -9.77805844e+00,   4.09715468e+00,\n",
       "        -5.14012715e+00,  -5.58461020e+00,   2.17024627e+00,\n",
       "        -3.58417291e+00,   2.60231335e+00,   1.38068031e+01,\n",
       "         1.91970245e+01,   1.87439483e+00,   1.32152373e+01,\n",
       "         6.28443133e-01,  -2.03881850e+00,  -2.13714459e+00,\n",
       "        -2.89165005e+00,   1.14952505e+01,  -6.13778349e+00,\n",
       "         4.52618661e+00,   1.44567325e+00,   3.51969747e+00,\n",
       "        -4.81016479e+00,  -2.99776092e+00,   8.91435640e+00,\n",
       "         3.35854430e+00,   1.33695987e+01,   1.13501970e+00,\n",
       "        -4.48862479e+00,  -2.10606365e+01,   2.25318120e+01,\n",
       "         7.06129153e+00,  -6.28874390e+00,   5.76731350e-01,\n",
       "         1.56583018e+01,   9.93512685e+00,   8.67034677e+00,\n",
       "        -1.80113636e+00,   3.72141569e+00,   4.95135545e+00,\n",
       "        -1.45761293e+00,   2.05966069e+01,  -3.37227352e+00,\n",
       "        -8.17194926e+00,  -4.53035161e+00,  -9.23054939e+00,\n",
       "        -7.88625183e+00,   2.61147586e+00,   1.38159680e+01,\n",
       "         1.36205637e+01,   5.80240174e+00,  -5.62715827e+00,\n",
       "        -1.73324391e+01,   1.59217550e+01,   7.01464686e+00,\n",
       "        -4.03577069e+00,  -2.62021180e+00,   4.85637242e+00,\n",
       "         5.54552320e+00,  -1.76789547e+01,  -1.83596158e+01,\n",
       "        -1.37174327e+01,  -1.00395629e+01,  -3.55188794e+00,\n",
       "         6.40031211e+00,   3.44864936e+00,   2.89741578e+00,\n",
       "         2.15610501e-01,  -2.66743906e+00,  -1.21775812e+00,\n",
       "        -2.81929282e+00,  -9.40303198e+00,  -9.24296917e+00,\n",
       "        -1.53617460e+01,   1.55854709e+01,   7.23557241e+00,\n",
       "        -6.30614253e+00,  -4.90499912e+00,   2.35904572e-01,\n",
       "        -5.61177106e+00,  -1.40588039e+01,  -1.26434565e+01,\n",
       "        -7.59997931e+00,   7.61613605e+00,   1.05906904e+01,\n",
       "         1.98817579e+00,  -2.78061562e+00,   1.37264406e+01,\n",
       "         5.51152629e+00,   1.85552719e+01,  -1.42781993e+01,\n",
       "        -9.20634417e-02,   9.98239302e-01,  -1.46060738e+01,\n",
       "         1.24836374e+00,  -1.68183178e+00,   3.00932346e+00,\n",
       "         5.40758581e+00,   4.94438755e+00,  -3.28497018e+00,\n",
       "        -9.97979338e+00,  -2.70531517e+00,  -2.35263100e+01,\n",
       "         4.75390841e+00,  -1.29167443e+01,  -1.55794526e+01,\n",
       "         1.30227171e+00,  -1.80895327e+00,   7.95220671e+00,\n",
       "         9.81896767e-01,   7.28186289e+00,   7.84695308e+00,\n",
       "        -3.91413744e+00,  -1.32548840e+01,   5.30470276e+00,\n",
       "         1.00290319e+01,   1.31550975e+01,   4.47174597e+00,\n",
       "         8.36364291e-01,   9.32814400e+00,   5.99101985e+00,\n",
       "         2.98056736e+00,   6.19070866e+00,   2.05468640e+01,\n",
       "        -6.48835075e+00,   7.31567282e-01,   1.59601981e+01,\n",
       "        -1.59470323e+00,   5.16180920e+00,   8.27796769e+00,\n",
       "        -5.30989251e+00,   8.58812476e+00,  -5.60274430e+00,\n",
       "         9.20694806e+00,   5.68946772e+00,  -3.33966140e+00,\n",
       "         1.82913991e+01,   7.98755540e+00,  -3.92627054e+00,\n",
       "         6.06435753e+00,  -9.00432291e+00,  -1.28922599e+01,\n",
       "         4.25995152e+00,  -6.77973777e+00,   1.18330835e+01,\n",
       "         2.28335798e-01,  -2.30268970e+00,   1.72158769e+01,\n",
       "        -8.11788447e+00,  -4.84485600e+00,  -5.43137471e+00,\n",
       "        -5.46449618e-01,  -8.89529638e+00,   7.57024045e+00,\n",
       "        -1.28954334e+00,  -1.02053579e+00,  -5.84088268e+00,\n",
       "        -4.44254490e+00,  -2.02933596e+01,  -9.44578118e+00,\n",
       "         2.14210717e+00,  -4.22638427e+00,   1.21229027e+01,\n",
       "        -1.63014212e+00,   6.58826162e+00,  -9.04097069e+00,\n",
       "         1.07216546e+01,   3.65891280e+00,   8.55767179e-01,\n",
       "         8.52111716e-01,   2.77482389e+01,  -9.86057571e+00,\n",
       "         6.07374535e+00,  -1.06377653e+01,  -1.00407613e+01,\n",
       "        -9.72033910e+00,  -4.93094535e+00,   4.63899907e+00,\n",
       "        -1.24355539e+01,  -5.27713286e+00,   1.23793892e+01,\n",
       "         3.74235657e+00,  -8.58223283e+00,   1.30747369e+01,\n",
       "         1.43873190e+01,   9.76658473e-02,   8.94193242e+00,\n",
       "         3.22722053e+00,  -1.07112625e+01,  -1.72912752e+01,\n",
       "         4.95775604e+00,   1.11383562e+00,  -2.71616070e+00,\n",
       "        -4.51066619e+00,  -5.42377658e+00,  -1.33011911e+01,\n",
       "        -2.79205447e+00,  -1.42856396e+01,   1.32442581e+00,\n",
       "        -2.22840188e+00,  -1.27476365e+01,   1.20177151e+01,\n",
       "         5.79173772e-01,  -2.43565424e+01,  -1.12527278e+01,\n",
       "        -1.37812358e+01,   7.86317908e+00,  -1.46700839e+00,\n",
       "        -1.87802162e+01,   2.40373146e+01,  -1.89989248e+01,\n",
       "         8.97564427e-01,  -9.09538623e+00,  -1.61615346e+01,\n",
       "        -4.76977103e+00,   1.34617387e+01,   8.04047582e-01,\n",
       "        -7.14412581e+00,  -2.86921713e-01,  -9.04121906e+00,\n",
       "        -2.85310723e-01,  -4.38574344e+00,  -1.72803501e+00,\n",
       "        -2.25390040e-01,   6.22486317e+00,  -1.89558612e+00,\n",
       "         4.25757827e+00,   1.19268776e+01,   1.04910898e+01,\n",
       "        -5.07748481e+00,  -5.68760018e-02,  -2.41370911e+01,\n",
       "        -8.12158794e+00,   2.11047701e+00,  -6.38290729e+00,\n",
       "         1.26484653e+01,   6.05523039e+00,  -2.92652486e+00,\n",
       "         5.28887500e+00,   3.40092457e+00,   2.44133410e+01,\n",
       "         4.91739524e+00,  -2.14867071e+00,  -3.98369527e+00,\n",
       "        -8.57777984e-01,  -1.34883425e+01,   2.78762716e+01,\n",
       "        -4.49847338e+00,  -2.55040829e+00,  -1.08992723e+01,\n",
       "         3.79947191e+00,   1.16198622e+01,  -2.18090063e+00,\n",
       "         2.13144937e+00,  -4.26223465e+00,  -1.29599646e+01,\n",
       "         2.70851507e+00,   1.65390674e+00,  -2.37709868e+00,\n",
       "         1.17038040e+01,  -9.42633023e+00,  -1.70279155e+01,\n",
       "        -1.31155828e+01,   1.92876749e+00,  -6.84045238e+00,\n",
       "        -3.90562830e+00,   6.24065450e+00,  -2.52921022e+00,\n",
       "        -1.91884386e+00,  -1.00735488e+01,   4.93531340e+00,\n",
       "         1.78326184e+01,   2.60191463e+00,   1.77915680e+01,\n",
       "        -8.11125052e+00,   8.62388312e+00,  -1.15179701e+01,\n",
       "         9.94793844e-01,   1.26308949e+01,  -9.18567942e+00,\n",
       "        -5.07069859e+00,  -1.50922239e+01,   1.32104298e+01,\n",
       "        -4.95243181e+00,  -1.31206523e+01,  -4.88946522e+00,\n",
       "        -1.33733029e+01,   1.19591111e+01,   3.92170417e-01,\n",
       "         4.29014070e+00,  -9.71872046e-01,   4.42909530e+00,\n",
       "         1.40714541e+00,   1.91602098e+00,   6.30719489e+00,\n",
       "        -1.64495578e+00,   4.65337721e+00,  -1.69899812e+01,\n",
       "         2.98908586e+00,  -5.02677521e+00,  -3.37553504e+00,\n",
       "        -2.03927128e+00,  -2.56341004e+00,  -1.00166064e+01,\n",
       "         7.83692451e+00,  -2.33659991e+00,  -2.26480150e+00,\n",
       "         1.22883652e+01,   2.42958670e+00,  -1.11869158e+01,\n",
       "         1.14426229e+01,   4.51224949e-01,   3.23403875e+00,\n",
       "        -2.14130484e+00,  -2.19766890e+01,  -1.96829972e+01,\n",
       "         1.02809423e+01,   1.01911790e+01,  -2.98952324e+00,\n",
       "        -2.31678533e+00,   6.50456004e+00,  -1.58092063e+01,\n",
       "        -8.18337954e+00,  -1.50977915e+01,   1.98657500e+01,\n",
       "        -3.42417730e+00,  -7.23929172e+00,  -7.46430221e+00,\n",
       "        -9.00648748e+00,  -1.43447079e+00,  -1.08123118e+00,\n",
       "        -1.44773160e+01,  -7.69269981e+00,   4.62923281e-01,\n",
       "        -1.49037273e+01,  -5.47227775e+00,  -5.04894246e+00,\n",
       "        -1.68296789e+00,  -3.84959075e+00,   4.01220269e+00,\n",
       "        -1.11612983e+01,   1.22650231e+01,   6.67120524e-01,\n",
       "        -2.33949513e+00,  -2.81481135e+01,  -1.76249648e+01,\n",
       "         2.42677539e+00,  -1.32801979e+01,  -1.65415647e+01,\n",
       "         1.12051893e-01,  -1.53077277e+01,   1.45274505e+01,\n",
       "        -6.06865405e+00,   9.31273194e-01,   2.90490678e+00,\n",
       "        -4.15616177e+00,  -2.17960662e+01,   1.12353837e+01,\n",
       "         7.18631343e-01,   1.08756648e+01,  -3.01835079e+00,\n",
       "         1.13930327e+01,   1.73340658e+00,   6.03081198e+00,\n",
       "         1.17245526e+01,   8.10975793e+00,   6.62980515e+00,\n",
       "         4.10287736e+00,   1.09057742e+01,   1.25042366e+01,\n",
       "        -8.59062383e+00,   3.07741690e+00,   6.59949062e+00,\n",
       "        -6.42716266e+00,  -1.70240316e+00,  -5.18599979e+00,\n",
       "        -1.64774626e+01,   2.35373108e+00,   3.59106457e+00,\n",
       "        -1.60160466e+00,   9.16766505e+00,  -3.20837926e+00,\n",
       "        -6.80199600e+00,  -2.51158268e+00,  -1.34289142e+01,\n",
       "         7.87980756e+00,  -5.02167469e+00,   8.59214536e-01,\n",
       "         4.66987869e+00,  -1.20878763e+01,  -9.31118343e+00,\n",
       "        -2.42297138e+00,  -1.12189072e+01,  -1.41459227e+00,\n",
       "         1.43577888e+01,  -7.18076718e+00,   1.22974472e+01,\n",
       "        -2.41765139e+00,   3.14361136e-01,  -2.21828706e+01,\n",
       "         1.47343154e+00,  -6.06822166e+00,  -6.07813575e-01,\n",
       "         1.63948909e+01,  -3.59950202e+00,   7.71834406e+00,\n",
       "        -1.78112132e+01,  -1.27057716e+01,  -2.26774403e+01,\n",
       "         1.35742696e+00,  -8.60336837e+00,  -1.44257526e+01,\n",
       "        -7.23520928e+00,   7.74485434e-01,   4.45246423e+00,\n",
       "         6.19611327e+00,   1.09971193e+01,  -1.33645869e+01,\n",
       "        -8.34575598e+00,   7.52319725e-01,   5.01637201e+00,\n",
       "         9.08619320e+00,   9.47156195e-01,   1.38984154e+01,\n",
       "         1.22838542e+01,   6.32838272e+00,   2.16400739e-01,\n",
       "         9.91231361e+00,   9.23820154e+00,   1.06552458e+01,\n",
       "        -9.21162921e+00,   4.24543198e+00,   4.60764465e+00,\n",
       "        -6.89782681e+00,   2.46452517e+00,  -1.26004068e+01,\n",
       "         7.61608673e+00,  -6.44656583e-01,   7.41945567e+00,\n",
       "         7.78012201e+00,  -7.89673349e+00,   1.48056717e+01,\n",
       "        -1.11399830e+01,   4.32455640e+00,  -1.42351140e+01,\n",
       "         3.62213835e+00,  -1.08009340e+01,  -8.35448270e-01,\n",
       "         1.73934107e+00])"
      ]
     },
     "execution_count": 76,
     "metadata": {},
     "output_type": "execute_result"
    }
   ],
   "source": [
    "#creating a random sample size of 1000\n",
    "x_rand=random.normal(scale=10,size=1000)\n",
    "x_rand"
   ]
  },
  {
   "cell_type": "code",
   "execution_count": 67,
   "metadata": {},
   "outputs": [
    {
     "data": {
      "text/plain": [
       "Text(0,0.5,'Value')"
      ]
     },
     "execution_count": 67,
     "metadata": {},
     "output_type": "execute_result"
    },
    {
     "data": {
      "image/png": "[encoded data removed]",
      "text/plain": [
       "<matplotlib.figure.Figure at 0x1b4e63d1b70>"
      ]
     },
     "metadata": {},
     "output_type": "display_data"
    }
   ],
   "source": [
    "plt.hist(x_rand)\n",
    "plt.title('Frequency Distribution')\n",
    "plt.xlabel('Integer')\n",
    "plt.ylabel('Value')"
   ]
  },
  {
   "cell_type": "code",
   "execution_count": 68,
   "metadata": {},
   "outputs": [
    {
     "data": {
      "text/html": [
       "<div>\n",
       "<style>\n",
       "    .dataframe thead tr:only-child th {\n",
       "        text-align: right;\n",
       "    }\n",
       "\n",
       "    .dataframe thead th {\n",
       "        text-align: left;\n",
       "    }\n",
       "\n",
       "    .dataframe tbody tr th {\n",
       "        vertical-align: top;\n",
       "    }\n",
       "</style>\n",
       "<table border=\"1\" class=\"dataframe\">\n",
       "  <thead>\n",
       "    <tr style=\"text-align: right;\">\n",
       "      <th></th>\n",
       "      <th>0</th>\n",
       "    </tr>\n",
       "  </thead>\n",
       "  <tbody>\n",
       "    <tr>\n",
       "      <th>count</th>\n",
       "      <td>1000.000000</td>\n",
       "    </tr>\n",
       "    <tr>\n",
       "      <th>mean</th>\n",
       "      <td>0.572496</td>\n",
       "    </tr>\n",
       "    <tr>\n",
       "      <th>std</th>\n",
       "      <td>9.523779</td>\n",
       "    </tr>\n",
       "    <tr>\n",
       "      <th>min</th>\n",
       "      <td>-29.736098</td>\n",
       "    </tr>\n",
       "    <tr>\n",
       "      <th>25%</th>\n",
       "      <td>-6.337400</td>\n",
       "    </tr>\n",
       "    <tr>\n",
       "      <th>50%</th>\n",
       "      <td>0.411968</td>\n",
       "    </tr>\n",
       "    <tr>\n",
       "      <th>75%</th>\n",
       "      <td>7.287533</td>\n",
       "    </tr>\n",
       "    <tr>\n",
       "      <th>max</th>\n",
       "      <td>32.158984</td>\n",
       "    </tr>\n",
       "  </tbody>\n",
       "</table>\n",
       "</div>"
      ],
      "text/plain": [
       "                 0\n",
       "count  1000.000000\n",
       "mean      0.572496\n",
       "std       9.523779\n",
       "min     -29.736098\n",
       "25%      -6.337400\n",
       "50%       0.411968\n",
       "75%       7.287533\n",
       "max      32.158984"
      ]
     },
     "execution_count": 68,
     "metadata": {},
     "output_type": "execute_result"
    }
   ],
   "source": [
    "x_rand_df= pd.DataFrame(x_rand)\n",
    "x_rand_df.describe()"
   ]
  },
  {
   "cell_type": "code",
   "execution_count": 26,
   "metadata": {},
   "outputs": [
    {
     "data": {
      "text/html": [
       "<div>\n",
       "<style>\n",
       "    .dataframe thead tr:only-child th {\n",
       "        text-align: right;\n",
       "    }\n",
       "\n",
       "    .dataframe thead th {\n",
       "        text-align: left;\n",
       "    }\n",
       "\n",
       "    .dataframe tbody tr th {\n",
       "        vertical-align: top;\n",
       "    }\n",
       "</style>\n",
       "<table border=\"1\" class=\"dataframe\">\n",
       "  <thead>\n",
       "    <tr style=\"text-align: right;\">\n",
       "      <th></th>\n",
       "      <th>0</th>\n",
       "    </tr>\n",
       "  </thead>\n",
       "  <tbody>\n",
       "    <tr>\n",
       "      <th>count</th>\n",
       "      <td>20.000000</td>\n",
       "    </tr>\n",
       "    <tr>\n",
       "      <th>mean</th>\n",
       "      <td>3.750000</td>\n",
       "    </tr>\n",
       "    <tr>\n",
       "      <th>std</th>\n",
       "      <td>3.416292</td>\n",
       "    </tr>\n",
       "    <tr>\n",
       "      <th>min</th>\n",
       "      <td>0.000000</td>\n",
       "    </tr>\n",
       "    <tr>\n",
       "      <th>25%</th>\n",
       "      <td>0.000000</td>\n",
       "    </tr>\n",
       "    <tr>\n",
       "      <th>50%</th>\n",
       "      <td>4.000000</td>\n",
       "    </tr>\n",
       "    <tr>\n",
       "      <th>75%</th>\n",
       "      <td>6.250000</td>\n",
       "    </tr>\n",
       "    <tr>\n",
       "      <th>max</th>\n",
       "      <td>9.000000</td>\n",
       "    </tr>\n",
       "  </tbody>\n",
       "</table>\n",
       "</div>"
      ],
      "text/plain": [
       "               0\n",
       "count  20.000000\n",
       "mean    3.750000\n",
       "std     3.416292\n",
       "min     0.000000\n",
       "25%     0.000000\n",
       "50%     4.000000\n",
       "75%     6.250000\n",
       "max     9.000000"
      ]
     },
     "execution_count": 26,
     "metadata": {},
     "output_type": "execute_result"
    }
   ],
   "source": [
    "\n",
    "x_df= pd.DataFrame(x)\n",
    "x_df.describe()"
   ]
  },
  {
   "cell_type": "markdown",
   "metadata": {},
   "source": [
    "<center><h3>Creating a Sampling Function</h3></center>\n",
    "\n",
    "Now that we have created our data set, we'll need to sample from it.  In order to do this, you'll need to create two different functions--a `get_sample` to create random samples of size 'n', and a `create_sample_distribution` function to actually create a sample distribution of size `n` (using our helper function). \n",
    "\n",
    "Your `get_sample` function should:\n",
    "\n",
    "1.  Take a keyword argument for sample size (called 'n' for short)\n",
    "1.  Randomly grab 'n' samples from the uniform distribution with replacement (any samples selected should NOT be removed from the original data set).\n",
    "1.  Calculate the mean of the sub-sample and return it.\n",
    "\n",
    "\n",
    "Your `create_sample_distribution` function should:\n",
    "\n",
    "1.  Take a keyword argument for size, which will determine the total size of the sample distribution.\n",
    "1.  Use the `get_sample` helper function to create sample distributions and calculate sample mean.   \n",
    "1.  Store the sample mean.\n",
    "1.  Repeat this process until there a distribution of `[size]` sample means exist.  When the data set is complete, return it as a numpy array.  \n",
    "\n",
    "``` python\n",
    "def get_sample(dataset, n=30):\n",
    "    \"\"\"Grabs a random subsample of size 'n' from dataset.\n",
    "    Outputs the mean of the subsample.\"\"\"\n",
    "    pass\n",
    "\n",
    "def create_sample_distribution(dataset, size=100):\n",
    "    \"\"\"Creates a dataset of subsample means.  The length of the dataset is specified by the 'size' \n",
    "    keyword argument. Should return the entire sample distribution as a numpy array.  \"\"\"\n",
    "    pass\n",
    "```\n",
    "\n"
   ]
  },
  {
   "cell_type": "code",
   "execution_count": 192,
   "metadata": {},
   "outputs": [
    {
     "name": "stdout",
     "output_type": "stream",
     "text": [
      "0.148164270391\n"
     ]
    },
    {
     "data": {
      "text/plain": [
       "[52.133333333333333,\n",
       " 41.733333333333334,\n",
       " 58.133333333333333,\n",
       " 37.200000000000003,\n",
       " 53.133333333333333]"
      ]
     },
     "execution_count": 192,
     "metadata": {},
     "output_type": "execute_result"
    }
   ],
   "source": [
    "# Complete the two functions below. In progress to be done by class\n",
    "\n",
    "def get_sample(dataset, n=30):\n",
    "    \"\"\"Grabs a random subsample of size 'n' from dataset.\n",
    "    Outputs the mean of the subsample.\"\"\"\n",
    "    #delcare as a normal array first for ease of operations\n",
    "    sample_list = []\n",
    "    \n",
    "    for samp_data in range(n):\n",
    "        random_number = random.choice(dataset)\n",
    "        sample_list.append(random_number)\n",
    "\n",
    "    sample_mean = np.mean(sample_list)\n",
    "    return sample_mean\n",
    "    \n",
    "    return mean_sample\n",
    "#testing --success\n",
    "print(get_sample(x))\n",
    "\n",
    "def create_sample_distribution(dataset, size=100):\n",
    "    \"\"\"Creates a dataset of subsample means.  The length of the dataset is specified by the 'size' \n",
    "    keyword argument. Should return the entire sample distribution as a numpy array.  \"\"\"\n",
    "    #for later use if needed\n",
    "    sample_set= dataset\n",
    "    #declare as a normal array first since np.array doesnt deal with append method and we may need this\n",
    "    sample_dist_array = []\n",
    "    #based on entered loop size appends that many means to the array\n",
    "    for i in range(size):\n",
    "        sample_dist_array.append(get_sample(sample_set))\n",
    "    #may be unnecesary but keeps me organized\n",
    "    sample_dist = sample_dist_array\n",
    "    return sample_dist\n",
    "\n",
    "\n",
    "create_sample_distribution(x_rand,5)"
   ]
  },
  {
   "cell_type": "markdown",
   "metadata": {},
   "source": [
    "<center><h3>Visualizing our Sample Distribution</h3></center>\n",
    "\n",
    "Now that we have created our sample distribution, let's visualize it to determine if it's a normal distribution.  \n",
    "\n",
    "**TASK:** Use matplotlib to visualize our sample distribution."
   ]
  },
  {
   "cell_type": "code",
   "execution_count": 201,
   "metadata": {},
   "outputs": [
    {
     "data": {
      "text/plain": [
       "(array([  1.,   8.,  14.,  18.,  15.,  18.,  16.,   5.,   3.,   2.]),\n",
       " array([ 39.16666667,  41.48      ,  43.79333333,  46.10666667,\n",
       "         48.42      ,  50.73333333,  53.04666667,  55.36      ,\n",
       "         57.67333333,  59.98666667,  62.3       ]),\n",
       " <a list of 10 Patch objects>)"
      ]
     },
     "execution_count": 201,
     "metadata": {},
     "output_type": "execute_result"
    },
    {
     "data": {
      "image/png": "[encoded data removed]",
      "text/plain": [
       "<matplotlib.figure.Figure at 0x1b4e93fba20>"
      ]
     },
     "metadata": {},
     "output_type": "display_data"
    }
   ],
   "source": [
    "# Visualize our sample distribution below.\n",
    "# Remember, we aliased matplotlib.pyplot as plt!\n",
    "plt.hist(create_sample_distribution(non_normal_data))"
   ]
  },
  {
   "cell_type": "markdown",
   "metadata": {},
   "source": [
    "<center><h3>Great Job!</h3></center>\n",
    "\n",
    "Now that you've used the Central Limit Theorem, you're able to create to treat non-normally distributed datasets as normally distributed.  You can now compute Z-scores and compute probabilities for values in these datasets!  "
   ]
  }
 ],
 "metadata": {
  "kernelspec": {
   "display_name": "Python 3",
   "language": "python",
   "name": "python3"
  },
  "language_info": {
   "codemirror_mode": {
    "name": "ipython",
    "version": 3
   },
   "file_extension": ".py",
   "mimetype": "text/x-python",
   "name": "python",
   "nbconvert_exporter": "python",
   "pygments_lexer": "ipython3",
   "version": "3.6.3"
  }
 },
 "nbformat": 4,
 "nbformat_minor": 2
}
